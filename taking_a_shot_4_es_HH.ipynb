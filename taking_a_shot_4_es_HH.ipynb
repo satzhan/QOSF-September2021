{
 "cells": [
  {
   "cell_type": "code",
   "execution_count": 2,
   "id": "30ede688",
   "metadata": {},
   "outputs": [],
   "source": [
    "from qiskit_nature.drivers import UnitsType, Molecule\n",
    "from qiskit_nature.drivers.second_quantization import (\n",
    "    ElectronicStructureDriverType,\n",
    "    ElectronicStructureMoleculeDriver,\n",
    ")\n",
    "from qiskit_nature.problems.second_quantization import ElectronicStructureProblem\n",
    "from qiskit_nature.converters.second_quantization import QubitConverter\n",
    "from qiskit_nature.mappers.second_quantization import JordanWignerMapper\n",
    "\n",
    "molecule = Molecule(\n",
    "    geometry=[[\"H\", [0.0, 0.0, 0.0]], [\"H\", [0.0, 0.0, 0.735]]], charge=0, multiplicity=1\n",
    ")\n",
    "driver = ElectronicStructureMoleculeDriver(\n",
    "    molecule, basis=\"sto3g\", driver_type=ElectronicStructureDriverType.PYSCF\n",
    ")\n",
    "\n",
    "es_problem = ElectronicStructureProblem(driver)\n",
    "qubit_converter = QubitConverter(JordanWignerMapper())"
   ]
  },
  {
   "cell_type": "code",
   "execution_count": 3,
   "id": "6d819ec3",
   "metadata": {},
   "outputs": [],
   "source": [
    "from qiskit_nature.algorithms import NumPyEigensolverFactory\n",
    "\n",
    "numpy_solver = NumPyEigensolverFactory(use_default_filter_criterion=True)"
   ]
  },
  {
   "cell_type": "code",
   "execution_count": 4,
   "id": "7127aeef",
   "metadata": {},
   "outputs": [],
   "source": [
    "from qiskit import Aer\n",
    "from qiskit.utils import QuantumInstance\n",
    "from qiskit_nature.algorithms import GroundStateEigensolver, QEOM, VQEUCCFactory\n",
    "\n",
    "# This first part sets the ground state solver\n",
    "# see more about this part in the ground state calculation tutorial\n",
    "quantum_instance = QuantumInstance(Aer.get_backend(\"aer_simulator_statevector\"))\n",
    "solver = VQEUCCFactory(quantum_instance)\n",
    "gsc = GroundStateEigensolver(qubit_converter, solver)\n",
    "\n",
    "# The qEOM algorithm is simply instantiated with the chosen ground state solver\n",
    "qeom_excited_states_calculation = QEOM(gsc, \"sd\")"
   ]
  },
  {
   "cell_type": "code",
   "execution_count": 5,
   "id": "fbe8c399",
   "metadata": {},
   "outputs": [
    {
     "name": "stdout",
     "output_type": "stream",
     "text": [
      "=== GROUND STATE ENERGY ===\n",
      " \n",
      "* Electronic ground state energy (Hartree): -1.857275030202\n",
      "  - computed part:      -1.857275030202\n",
      "~ Nuclear repulsion energy (Hartree): 0.719968994449\n",
      "> Total ground state energy (Hartree): -1.137306035753\n",
      " \n",
      "=== EXCITED STATE ENERGIES ===\n",
      " \n",
      "  1: \n",
      "* Electronic excited state energy (Hartree): -0.882722150245\n",
      "* Electronic excited state energy (Hartree): -0.882722150245\n",
      "> Total excited state energy (Hartree): -0.162753155796\n",
      "  2: \n",
      "* Electronic excited state energy (Hartree): -0.224911252831\n",
      "* Electronic excited state energy (Hartree): -0.224911252831\n",
      "> Total excited state energy (Hartree): 0.495057741618\n",
      " \n",
      "=== MEASURED OBSERVABLES ===\n",
      " \n",
      "  0:  # Particles: 2.000 S: 0.000 S^2: 0.000 M: 0.000\n",
      "  1:  # Particles: 2.000 S: 0.000 S^2: 0.000 M: 0.000\n",
      "  2:  # Particles: 2.000 S: 0.000 S^2: 0.000 M: 0.000\n",
      " \n",
      "=== DIPOLE MOMENTS ===\n",
      " \n",
      "~ Nuclear dipole moment (a.u.): [0.0  0.0  1.3889487]\n",
      " \n",
      "  0: \n",
      "  * Electronic dipole moment (a.u.): [0.0  0.0  1.3889487]\n",
      "    - computed part:      [0.0  0.0  1.3889487]\n",
      "  > Dipole moment (a.u.): [0.0  0.0  0.0]  Total: 0.0\n",
      "                 (debye): [0.0  0.0  0.0]  Total: 0.0\n",
      " \n",
      "  1: \n",
      "  * Electronic dipole moment (a.u.): [0.0  0.0  1.3889487]\n",
      "    - computed part:      [0.0  0.0  1.3889487]\n",
      "  > Dipole moment (a.u.): [0.0  0.0  0.0]  Total: 0.0\n",
      "                 (debye): [0.0  0.0  0.0]  Total: 0.0\n",
      " \n",
      "  2: \n",
      "  * Electronic dipole moment (a.u.): [0.0  0.0  1.3889487]\n",
      "    - computed part:      [0.0  0.0  1.3889487]\n",
      "  > Dipole moment (a.u.): [0.0  0.0  0.0]  Total: 0.0\n",
      "                 (debye): [0.0  0.0  0.0]  Total: 0.0\n",
      " \n",
      "\n",
      "\n",
      "\n"
     ]
    }
   ],
   "source": [
    "from qiskit_nature.algorithms import ExcitedStatesEigensolver\n",
    "\n",
    "numpy_excited_states_calculation = ExcitedStatesEigensolver(qubit_converter, numpy_solver)\n",
    "numpy_results = numpy_excited_states_calculation.solve(es_problem)\n",
    "\n",
    "qeom_results = qeom_excited_states_calculation.solve(es_problem)\n",
    "\n",
    "print(numpy_results)\n",
    "print(\"\\n\\n\")"
   ]
  },
  {
   "cell_type": "code",
   "execution_count": 8,
   "id": "0f9355fa",
   "metadata": {},
   "outputs": [
    {
     "name": "stdout",
     "output_type": "stream",
     "text": [
      "(-1.2445867793629346+0j) (-1.857275030143452+0j)\n"
     ]
    },
    {
     "data": {
      "text/plain": [
       "0.6126882507805174"
      ]
     },
     "execution_count": 8,
     "metadata": {},
     "output_type": "execute_result"
    }
   ],
   "source": [
    "print(qeom_results.eigenenergies[1], qeom_results.eigenenergies[0] )\n",
    "bandgap = qeom_results.computed_energies[1] - qeom_results.computed_energies[0]\n",
    "bandgap"
   ]
  },
  {
   "cell_type": "code",
   "execution_count": 12,
   "id": "a28e4a32",
   "metadata": {},
   "outputs": [
    {
     "name": "stdout",
     "output_type": "stream",
     "text": [
      "7\n"
     ]
    }
   ],
   "source": [
    "from qiskit_nature.problems.second_quantization import ElectronicStructureProblem\n",
    "es_problem = ElectronicStructureProblem(driver)\n",
    "second_q_op = es_problem.second_q_ops()\n",
    "print(len(second_q_op))"
   ]
  },
  {
   "cell_type": "code",
   "execution_count": 13,
   "id": "8009e0a9",
   "metadata": {},
   "outputs": [
    {
     "name": "stdout",
     "output_type": "stream",
     "text": [
      "-0.8105479805373268 * IIII\n",
      "- 0.225753492224025 * ZIII\n",
      "+ 0.17218393261915543 * IZII\n",
      "+ 0.12091263261776641 * ZZII\n",
      "- 0.225753492224025 * IIZI\n",
      "+ 0.17464343068300464 * ZIZI\n",
      "+ 0.1661454325638243 * IZZI\n",
      "+ 0.17218393261915546 * IIIZ\n",
      "+ 0.1661454325638243 * ZIIZ\n",
      "+ 0.16892753870087926 * IZIZ\n",
      "+ 0.12091263261776641 * IIZZ\n",
      "+ 0.04523279994605788 * XXXX\n",
      "+ 0.04523279994605788 * YYXX\n",
      "+ 0.04523279994605788 * XXYY\n",
      "+ 0.04523279994605788 * YYYY\n"
     ]
    }
   ],
   "source": [
    "from qiskit_nature.converters.second_quantization import QubitConverter\n",
    "from qiskit_nature.mappers.second_quantization import JordanWignerMapper, ParityMapper \n",
    "qubit_converter = QubitConverter(JordanWignerMapper())\n",
    "qubit_op = qubit_converter.convert(second_q_op[0])\n",
    "print(qubit_op)"
   ]
  },
  {
   "cell_type": "code",
   "execution_count": 14,
   "id": "b6c6cd42",
   "metadata": {},
   "outputs": [
    {
     "data": {
      "text/html": [
       "<pre style=\"word-wrap: normal;white-space: pre;background: #fff0;line-height: 1.1;font-family: &quot;Courier New&quot;,Courier,monospace\">     ┌───┐\n",
       "q_0: ┤ X ├\n",
       "     └───┘\n",
       "q_1: ─────\n",
       "     ┌───┐\n",
       "q_2: ┤ X ├\n",
       "     └───┘\n",
       "q_3: ─────\n",
       "          </pre>"
      ],
      "text/plain": [
       "     ┌───┐\n",
       "q_0: ┤ X ├\n",
       "     └───┘\n",
       "q_1: ─────\n",
       "     ┌───┐\n",
       "q_2: ┤ X ├\n",
       "     └───┘\n",
       "q_3: ─────\n",
       "          "
      ]
     },
     "execution_count": 14,
     "metadata": {},
     "output_type": "execute_result"
    }
   ],
   "source": [
    "from qiskit_nature.circuit.library import HartreeFock\n",
    "init_state = HartreeFock(4, (1,1), qubit_converter)\n",
    "init_state.draw()"
   ]
  },
  {
   "cell_type": "code",
   "execution_count": 15,
   "id": "27147b53",
   "metadata": {},
   "outputs": [
    {
     "data": {
      "text/html": [
       "<pre style=\"word-wrap: normal;white-space: pre;background: #fff0;line-height: 1.1;font-family: &quot;Courier New&quot;,Courier,monospace\">     ┌───┐   ┌───┐    ┌──────────┐                    ┌───┐┌──────────┐»\n",
       "q_0: ┤ X ├───┤ H ├────┤ Ry(θ[0]) ├──■────■─────────■──┤ H ├┤ Ry(θ[4]) ├»\n",
       "     ├───┤┌──┴───┴───┐└──────────┘┌─┴─┐  │         │  └───┘└──┬───┬───┘»\n",
       "q_1: ┤ H ├┤ Ry(θ[1]) ├────────────┤ X ├──┼────■────┼────■─────┤ H ├────»\n",
       "     ├───┤└──┬───┬───┘┌──────────┐└───┘┌─┴─┐┌─┴─┐  │    │     └───┘    »\n",
       "q_2: ┤ X ├───┤ H ├────┤ Ry(θ[2]) ├─────┤ X ├┤ X ├──┼────┼───────■──────»\n",
       "     ├───┤┌──┴───┴───┐└──────────┘     └───┘└───┘┌─┴─┐┌─┴─┐   ┌─┴─┐    »\n",
       "q_3: ┤ H ├┤ Ry(θ[3]) ├───────────────────────────┤ X ├┤ X ├───┤ X ├────»\n",
       "     └───┘└──────────┘                           └───┘└───┘   └───┘    »\n",
       "«                                            ┌───┐┌──────────┐            »\n",
       "«q_0: ─────────────────■────────■─────────■──┤ H ├┤ Ry(θ[8]) ├────────────»\n",
       "«     ┌──────────┐   ┌─┴─┐      │         │  └───┘└──┬───┬───┘┌──────────┐»\n",
       "«q_1: ┤ Ry(θ[5]) ├───┤ X ├──────┼────■────┼────■─────┤ H ├────┤ Ry(θ[9]) ├»\n",
       "«     └──┬───┬───┘┌──┴───┴───┐┌─┴─┐┌─┴─┐  │    │     └───┘    └──┬───┬───┘»\n",
       "«q_2: ───┤ H ├────┤ Ry(θ[6]) ├┤ X ├┤ X ├──┼────┼───────■─────────┤ H ├────»\n",
       "«        ├───┤    ├──────────┤└───┘└───┘┌─┴─┐┌─┴─┐   ┌─┴─┐       ├───┤    »\n",
       "«q_3: ───┤ H ├────┤ Ry(θ[7]) ├──────────┤ X ├┤ X ├───┤ X ├───────┤ H ├────»\n",
       "«        └───┘    └──────────┘          └───┘└───┘   └───┘       └───┘    »\n",
       "«                  \n",
       "«q_0: ─────────────\n",
       "«                  \n",
       "«q_1: ─────────────\n",
       "«     ┌───────────┐\n",
       "«q_2: ┤ Ry(θ[10]) ├\n",
       "«     ├───────────┤\n",
       "«q_3: ┤ Ry(θ[11]) ├\n",
       "«     └───────────┘</pre>"
      ],
      "text/plain": [
       "     ┌───┐   ┌───┐    ┌──────────┐                    ┌───┐┌──────────┐»\n",
       "q_0: ┤ X ├───┤ H ├────┤ Ry(θ[0]) ├──■────■─────────■──┤ H ├┤ Ry(θ[4]) ├»\n",
       "     ├───┤┌──┴───┴───┐└──────────┘┌─┴─┐  │         │  └───┘└──┬───┬───┘»\n",
       "q_1: ┤ H ├┤ Ry(θ[1]) ├────────────┤ X ├──┼────■────┼────■─────┤ H ├────»\n",
       "     ├───┤└──┬───┬───┘┌──────────┐└───┘┌─┴─┐┌─┴─┐  │    │     └───┘    »\n",
       "q_2: ┤ X ├───┤ H ├────┤ Ry(θ[2]) ├─────┤ X ├┤ X ├──┼────┼───────■──────»\n",
       "     ├───┤┌──┴───┴───┐└──────────┘     └───┘└───┘┌─┴─┐┌─┴─┐   ┌─┴─┐    »\n",
       "q_3: ┤ H ├┤ Ry(θ[3]) ├───────────────────────────┤ X ├┤ X ├───┤ X ├────»\n",
       "     └───┘└──────────┘                           └───┘└───┘   └───┘    »\n",
       "«                                            ┌───┐┌──────────┐            »\n",
       "«q_0: ─────────────────■────────■─────────■──┤ H ├┤ Ry(θ[8]) ├────────────»\n",
       "«     ┌──────────┐   ┌─┴─┐      │         │  └───┘└──┬───┬───┘┌──────────┐»\n",
       "«q_1: ┤ Ry(θ[5]) ├───┤ X ├──────┼────■────┼────■─────┤ H ├────┤ Ry(θ[9]) ├»\n",
       "«     └──┬───┬───┘┌──┴───┴───┐┌─┴─┐┌─┴─┐  │    │     └───┘    └──┬───┬───┘»\n",
       "«q_2: ───┤ H ├────┤ Ry(θ[6]) ├┤ X ├┤ X ├──┼────┼───────■─────────┤ H ├────»\n",
       "«        ├───┤    ├──────────┤└───┘└───┘┌─┴─┐┌─┴─┐   ┌─┴─┐       ├───┤    »\n",
       "«q_3: ───┤ H ├────┤ Ry(θ[7]) ├──────────┤ X ├┤ X ├───┤ X ├───────┤ H ├────»\n",
       "«        └───┘    └──────────┘          └───┘└───┘   └───┘       └───┘    »\n",
       "«                  \n",
       "«q_0: ─────────────\n",
       "«                  \n",
       "«q_1: ─────────────\n",
       "«     ┌───────────┐\n",
       "«q_2: ┤ Ry(θ[10]) ├\n",
       "«     ├───────────┤\n",
       "«q_3: ┤ Ry(θ[11]) ├\n",
       "«     └───────────┘"
      ]
     },
     "execution_count": 15,
     "metadata": {},
     "output_type": "execute_result"
    }
   ],
   "source": [
    "from qiskit.circuit.library import EfficientSU2\n",
    "\n",
    "ansatz = EfficientSU2(num_qubits = 4, \n",
    "                      su2_gates = ['h', 'ry'],\n",
    "                      entanglement = 'full',\n",
    "                      reps = 2,\n",
    "                      initial_state = init_state)\n",
    "ansatz.decompose().draw()"
   ]
  },
  {
   "cell_type": "code",
   "execution_count": 16,
   "id": "938c8fb8",
   "metadata": {},
   "outputs": [],
   "source": [
    "from qiskit.providers.aer import StatevectorSimulator\n",
    "from qiskit.algorithms.optimizers import COBYLA\n",
    "backend = StatevectorSimulator()\n",
    "optimizer = COBYLA()"
   ]
  },
  {
   "cell_type": "code",
   "execution_count": 17,
   "id": "c6ebe3f0",
   "metadata": {},
   "outputs": [],
   "source": [
    "import numpy as np\n",
    "np.random.seed(5)\n",
    "num_params = ansatz.num_parameters\n",
    "initial_point = np.random.random(num_params)"
   ]
  },
  {
   "cell_type": "code",
   "execution_count": 18,
   "id": "5cee4f8c",
   "metadata": {},
   "outputs": [
    {
     "name": "stdout",
     "output_type": "stream",
     "text": [
      "(-1.8370382630399187+0j)\n"
     ]
    }
   ],
   "source": [
    "from qiskit.algorithms import VQE\n",
    "from qiskit_nature.algorithms import GroundStateEigensolver\n",
    "vqe = VQE(ansatz = ansatz,\n",
    "         optimizer = optimizer,\n",
    "         initial_point = initial_point,\n",
    "         quantum_instance = backend)\n",
    "\n",
    "vqe_ground_state_solver = GroundStateEigensolver(qubit_converter, vqe)\n",
    "vqe_results = vqe_ground_state_solver.solve(es_problem)\n",
    "print(vqe_results.eigenenergies[0])"
   ]
  },
  {
   "cell_type": "code",
   "execution_count": 19,
   "id": "f2d3e430",
   "metadata": {},
   "outputs": [
    {
     "name": "stdout",
     "output_type": "stream",
     "text": [
      "=== GROUND STATE ENERGY ===\n",
      " \n",
      "* Electronic ground state energy (Hartree): -1.83703826304\n",
      "  - computed part:      -1.83703826304\n",
      "~ Nuclear repulsion energy (Hartree): 0.719968994449\n",
      "> Total ground state energy (Hartree): -1.117069268591\n",
      " \n",
      "=== EXCITED STATE ENERGIES ===\n",
      " \n",
      "  1: \n",
      "* Electronic excited state energy (Hartree): -1.272636387067\n",
      "* Electronic excited state energy (Hartree): -1.272636387067\n",
      "> Total excited state energy (Hartree): -0.552667392618\n",
      "  2: \n",
      "* Electronic excited state energy (Hartree): -0.899972765749\n",
      "* Electronic excited state energy (Hartree): -0.899972765749\n",
      "> Total excited state energy (Hartree): -0.1800037713\n",
      "  3: \n",
      "* Electronic excited state energy (Hartree): -0.245142417372\n",
      "* Electronic excited state energy (Hartree): -0.245142417372\n",
      "> Total excited state energy (Hartree): 0.474826577077\n",
      " \n",
      "=== MEASURED OBSERVABLES ===\n",
      " \n",
      "  0:  # Particles: 2.000 S: 0.000 S^2: 0.000 M: -0.000\n",
      " \n",
      "=== DIPOLE MOMENTS ===\n",
      " \n",
      "~ Nuclear dipole moment (a.u.): [0.0  0.0  1.3889487]\n",
      " \n",
      "  0: \n",
      "  * Electronic dipole moment (a.u.): [0.0  0.0  1.39714305]\n",
      "    - computed part:      [0.0  0.0  1.39714305]\n",
      "  > Dipole moment (a.u.): [0.0  0.0  -0.00819435]  Total: 0.00819435\n",
      "                 (debye): [0.0  0.0  -0.02082796]  Total: 0.02082796\n",
      " \n"
     ]
    }
   ],
   "source": [
    "from qiskit_nature.algorithms import QEOM\n",
    "qeom_excited_state_solver = QEOM(vqe_ground_state_solver, 'sd')\n",
    "qeom_results = qeom_excited_state_solver.solve(es_problem)\n",
    "print(qeom_results)"
   ]
  },
  {
   "cell_type": "code",
   "execution_count": 20,
   "id": "035f01b5",
   "metadata": {},
   "outputs": [
    {
     "data": {
      "text/plain": [
       "0.5644018759726352"
      ]
     },
     "execution_count": 20,
     "metadata": {},
     "output_type": "execute_result"
    }
   ],
   "source": [
    "bandgap = qeom_results.computed_energies[1] - qeom_results.computed_energies[0]\n",
    "bandgap"
   ]
  },
  {
   "cell_type": "code",
   "execution_count": 41,
   "id": "f446b718",
   "metadata": {},
   "outputs": [
    {
     "data": {
      "text/plain": [
       "ParameterVector(name=θ, length=12)"
      ]
     },
     "execution_count": 41,
     "metadata": {},
     "output_type": "execute_result"
    }
   ],
   "source": [
    "from qiskit.opflow import CircuitStateFn, StateFn\n",
    "\n",
    "from qiskit.opflow import I, X, Y, Z, H, CX, Zero, ListOp, PauliExpectation, PauliTrotterEvolution, CircuitSampler, MatrixEvolution, Suzuki\n",
    "from qiskit.circuit.parametervector import ParameterVector\n",
    "\n",
    "H_op = qubit_op\n",
    "ansatz = ansatz\n",
    "ansatz.parameters\n",
    "\n",
    "# problem solved\n",
    "# ansatz has a parameterView\n",
    "# but to pull out parameter vector we should get a parameter\n",
    "# and then call it's vector parent which will be parameterVector\n",
    "ry = ansatz.parameters[0].vector\n",
    "ry"
   ]
  },
  {
   "cell_type": "code",
   "execution_count": 42,
   "id": "d6501e1f",
   "metadata": {},
   "outputs": [
    {
     "name": "stdout",
     "output_type": "stream",
     "text": [
      "(-1.3361194913805563+0j)\n"
     ]
    }
   ],
   "source": [
    "H_meas = StateFn(H_op, is_measurement=True)\n",
    "circuit_ansatz = CircuitStateFn(ansatz)\n",
    "H_and_ansatz = H_meas @ circuit_ansatz\n",
    "\n",
    "sampler = CircuitSampler(backend = backend)\n",
    "params = np.random.random(num_params)\n",
    "binded = H_and_ansatz.bind_parameters({ry:params})\n",
    "sampled = sampler.convert(binded)\n",
    "print(sampled.eval())"
   ]
  },
  {
   "cell_type": "code",
   "execution_count": 43,
   "id": "aeb702be",
   "metadata": {},
   "outputs": [
    {
     "name": "stdout",
     "output_type": "stream",
     "text": [
      "The vqe ground state energy using is: (-1.8370382630399187+0j)\n",
      "The estimated ground state energy from VQE algorithm is: -1.836967991202985\n"
     ]
    }
   ],
   "source": [
    "from scipy.optimize import minimize\n",
    "from qiskit import *\n",
    "def cost(params):\n",
    "    shots = 8192\n",
    "    backend = BasicAer.get_backend('qasm_simulator')\n",
    "    sampler = CircuitSampler(backend = backend)\n",
    "    binded = H_and_ansatz.bind_parameters({ry:params})\n",
    "    sampled = sampler.convert(binded)\n",
    "    return sampled.eval().real\n",
    "params = np.random.random(num_params)\n",
    "vqe_result = minimize(cost, params, method=\"Powell\", tol=1e-3)\n",
    "\n",
    "print('The vqe ground state energy using is: {}'.format(vqe_results.eigenenergies[0]))\n",
    "print('The estimated ground state energy from VQE algorithm is: {}'.format(vqe_result.fun))\n"
   ]
  },
  {
   "cell_type": "code",
   "execution_count": 44,
   "id": "1f33e81b",
   "metadata": {},
   "outputs": [
    {
     "data": {
      "text/plain": [
       "array([-0.85224443, -0.97393376, -1.43096557,  1.26938671,  0.00241006,\n",
       "       -0.04317803, -0.01186481,  0.29484183,  0.01267098,  0.71965133,\n",
       "        0.62607604,  0.09501496])"
      ]
     },
     "execution_count": 44,
     "metadata": {},
     "output_type": "execute_result"
    }
   ],
   "source": [
    "optimal_params = vqe_result.x\n",
    "optimal_params"
   ]
  },
  {
   "cell_type": "code",
   "execution_count": 45,
   "id": "c3bd2a15",
   "metadata": {},
   "outputs": [],
   "source": [
    "opt_circ = ansatz.bind_parameters({ry:optimal_params})\n",
    "zero_proj = (1 / 2**4 * (I + Z) ^ (I + Z) ^ (I + Z) ^ (I + Z))\n",
    "\n",
    "zero_proj_meas = StateFn(zero_proj, is_measurement = True)\n",
    "ansatz_and_opt_circ = ansatz.compose(opt_circ.inverse())\n",
    "#Penalty_ansatz = CircuitStateFn(ansatz_and_opt_circ)\n",
    "Penalty_ansatz = CircuitStateFn(ansatz + opt_circ.inverse())\n",
    "Penalty_and_ansatz = zero_proj_meas @ Penalty_ansatz\n",
    "\n",
    "H_tot = H_and_ansatz + Penalty_and_ansatz\n",
    "\n",
    "def cost(params):\n",
    "    shots = 8192\n",
    "    backend = BasicAer.get_backend('qasm_simulator')\n",
    "    sampler = CircuitSampler(backend = backend)\n",
    "    binded = H_tot.bind_parameters({ry:params})\n",
    "    sampled = sampler.convert(binded)\n",
    "    return sampled.eval().real\n",
    "params = np.random.random(num_params)\n",
    "vqd_result = minimize(cost, params, method=\"Powell\", tol=1e-3)\n",
    "\n"
   ]
  },
  {
   "cell_type": "code",
   "execution_count": 46,
   "id": "1b2e96a3",
   "metadata": {},
   "outputs": [
    {
     "name": "stdout",
     "output_type": "stream",
     "text": [
      "The qeom excited state energy using is: (-1.2726363870672834+0j)\n",
      "The estimated excited state energy from vqd algorithm is: -1.2518727658041273\n"
     ]
    }
   ],
   "source": [
    "print('The qeom excited state energy using is: {}'.format(qeom_results.eigenenergies[1]))\n",
    "print('The estimated excited state energy from vqd algorithm is: {}'.format(vqd_result.fun))\n"
   ]
  },
  {
   "cell_type": "code",
   "execution_count": 47,
   "id": "ce2c89a8",
   "metadata": {},
   "outputs": [
    {
     "name": "stdout",
     "output_type": "stream",
     "text": [
      "(-0.8999727657488661+0j) (-1.2726363870672834+0j)\n"
     ]
    },
    {
     "data": {
      "text/plain": [
       "0.37266362131841735"
      ]
     },
     "execution_count": 47,
     "metadata": {},
     "output_type": "execute_result"
    }
   ],
   "source": [
    "print(qeom_results.eigenenergies[2], qeom_results.eigenenergies[1] )\n",
    "bandgap2 = qeom_results.computed_energies[2] - qeom_results.computed_energies[1]\n",
    "bandgap2"
   ]
  },
  {
   "cell_type": "code",
   "execution_count": 48,
   "id": "f6215975",
   "metadata": {},
   "outputs": [
    {
     "data": {
      "text/plain": [
       "array([-0.29204294,  1.99982226, -0.91547932,  1.71286972,  0.78134214,\n",
       "        0.77699373, -0.34081794, -0.11978442,  0.3868845 ,  1.23840849,\n",
       "        0.51798508,  0.74359282])"
      ]
     },
     "execution_count": 48,
     "metadata": {},
     "output_type": "execute_result"
    }
   ],
   "source": [
    "optimal_params = vqd_result.x\n",
    "optimal_params"
   ]
  },
  {
   "cell_type": "code",
   "execution_count": 51,
   "id": "f0f11617",
   "metadata": {},
   "outputs": [],
   "source": [
    "opt_circ2 = ansatz.bind_parameters({ry:optimal_params})\n",
    "zero_proj = (1 / 2**4 * (I + Z) ^ (I + Z) ^ (I + Z) ^ (I + Z))\n",
    "\n",
    "zero_proj_meas = StateFn(zero_proj, is_measurement = True)\n",
    "ansatz_and_opt_circ = ansatz.compose(opt_circ2.inverse())\n",
    "#Penalty_ansatz = CircuitStateFn(ansatz_and_opt_circ)\n",
    "Penalty_ansatz = CircuitStateFn(ansatz + opt_circ2.inverse())\n",
    "Penalty_and_ansatz = zero_proj_meas @ Penalty_ansatz\n",
    "\n",
    "H_tot2 = H_tot + 2 * Penalty_and_ansatz\n",
    "\n",
    "def cost(params):\n",
    "    shots = 8192\n",
    "    backend = BasicAer.get_backend('qasm_simulator')\n",
    "    sampler = CircuitSampler(backend = backend)\n",
    "    binded = H_tot2.bind_parameters({ry:params})\n",
    "    sampled = sampler.convert(binded)\n",
    "    return sampled.eval().real\n",
    "params = np.random.random(num_params)\n",
    "vqd2_result = minimize(cost, params, method=\"Powell\", tol=1e-3)\n",
    "\n"
   ]
  },
  {
   "cell_type": "code",
   "execution_count": 52,
   "id": "2164b6cf",
   "metadata": {},
   "outputs": [
    {
     "name": "stdout",
     "output_type": "stream",
     "text": [
      "The qeom excited state energy using is: (-0.8999727657488661+0j)\n",
      "The estimated excited state energy from vqd algorithm is: -1.2501376234722907\n"
     ]
    }
   ],
   "source": [
    "print('The qeom excited state energy using is: {}'.format(qeom_results.eigenenergies[2]))\n",
    "print('The estimated excited state energy from vqd algorithm is: {}'.format(vqd2_result.fun))\n"
   ]
  },
  {
   "cell_type": "code",
   "execution_count": 40,
   "id": "8568258a",
   "metadata": {},
   "outputs": [
    {
     "name": "stdout",
     "output_type": "stream",
     "text": [
      "SummedOp([\n",
      "  ComposedOp([\n",
      "    OperatorMeasurement(-0.8105479805373268 * IIII\n",
      "    - 0.225753492224025 * ZIII\n",
      "    + 0.17218393261915543 * IZII\n",
      "    + 0.12091263261776641 * ZZII\n",
      "    - 0.225753492224025 * IIZI\n",
      "    + 0.17464343068300464 * ZIZI\n",
      "    + 0.1661454325638243 * IZZI\n",
      "    + 0.17218393261915546 * IIIZ\n",
      "    + 0.1661454325638243 * ZIIZ\n",
      "    + 0.16892753870087926 * IZIZ\n",
      "    + 0.12091263261776641 * IIZZ\n",
      "    + 0.04523279994605788 * XXXX\n",
      "    + 0.04523279994605788 * YYXX\n",
      "    + 0.04523279994605788 * XXYY\n",
      "    + 0.04523279994605788 * YYYY),\n",
      "    CircuitStateFn(\n",
      "         »\n",
      "    q_0: »\n",
      "         »\n",
      "    q_1: »\n",
      "         »\n",
      "    q_2: »\n",
      "         »\n",
      "    q_3: »\n",
      "         »\n",
      "    «     ┌──────────────────────────────────────────────────────────────────────────────┐\n",
      "    «q_0: ┤0                                                                             ├\n",
      "    «     │                                                                              │\n",
      "    «q_1: ┤1                                                                             ├\n",
      "    «     │  EfficientSU2(θ[0],θ[1],θ[2],θ[3],θ[4],θ[5],θ[6],θ[7],θ[8],θ[9],θ[10],θ[11]) │\n",
      "    «q_2: ┤2                                                                             ├\n",
      "    «     │                                                                              │\n",
      "    «q_3: ┤3                                                                             ├\n",
      "    «     └──────────────────────────────────────────────────────────────────────────────┘\n",
      "    )\n",
      "  ]),\n",
      "  ComposedOp([\n",
      "    OperatorMeasurement(0.0625 * IIII\n",
      "    + 0.0625 * IIIZ\n",
      "    + 0.0625 * IIZI\n",
      "    + 0.0625 * IIZZ\n",
      "    + 0.0625 * IZII\n",
      "    + 0.0625 * IZIZ\n",
      "    + 0.0625 * IZZI\n",
      "    + 0.0625 * IZZZ\n",
      "    + 0.0625 * ZIII\n",
      "    + 0.0625 * ZIIZ\n",
      "    + 0.0625 * ZIZI\n",
      "    + 0.0625 * ZIZZ\n",
      "    + 0.0625 * ZZII\n",
      "    + 0.0625 * ZZIZ\n",
      "    + 0.0625 * ZZZI\n",
      "    + 0.0625 * ZZZZ),\n",
      "    CircuitStateFn(\n",
      "         »\n",
      "    q_0: »\n",
      "         »\n",
      "    q_1: »\n",
      "         »\n",
      "    q_2: »\n",
      "         »\n",
      "    q_3: »\n",
      "         »\n",
      "    «     ┌──────────────────────────────────────────────────────────────────────────────┐»\n",
      "    «q_0: ┤0                                                                             ├»\n",
      "    «     │                                                                              │»\n",
      "    «q_1: ┤1                                                                             ├»\n",
      "    «     │  EfficientSU2(θ[0],θ[1],θ[2],θ[3],θ[4],θ[5],θ[6],θ[7],θ[8],θ[9],θ[10],θ[11]) │»\n",
      "    «q_2: ┤2                                                                             ├»\n",
      "    «     │                                                                              │»\n",
      "    «q_3: ┤3                                                                             ├»\n",
      "    «     └──────────────────────────────────────────────────────────────────────────────┘»\n",
      "    «     ┌──────────────────────────────────────────────────────────────────────────────────────────────────────────────────────────────────────────────────────────────────────────────────────────────────────────────────────────────────────────────┐\n",
      "    «q_0: ┤0                                                                                                                                                                                                                                             ├\n",
      "    «     │                                                                                                                                                                                                                                              │\n",
      "    «q_1: ┤1                                                                                                                                                                                                                                             ├\n",
      "    «     │  EfficientSU2_dg(-1.23860197253196,-0.556310818857517,-0.631702350247253,1.33947081347280,0.535884397699034,-0.0925337603007441,0.0540647299359577,0.230410081855276,0.556729656567230,0.365513531053068,1.07374958234101,0.908491655984073) │\n",
      "    «q_2: ┤2                                                                                                                                                                                                                                             ├\n",
      "    «     │                                                                                                                                                                                                                                              │\n",
      "    «q_3: ┤3                                                                                                                                                                                                                                             ├\n",
      "    «     └──────────────────────────────────────────────────────────────────────────────────────────────────────────────────────────────────────────────────────────────────────────────────────────────────────────────────────────────────────────────┘\n",
      "    )\n",
      "  ]),\n",
      "  2.0 * ComposedOp([\n",
      "    OperatorMeasurement(0.0625 * IIII\n",
      "    + 0.0625 * IIIZ\n",
      "    + 0.0625 * IIZI\n",
      "    + 0.0625 * IIZZ\n",
      "    + 0.0625 * IZII\n",
      "    + 0.0625 * IZIZ\n",
      "    + 0.0625 * IZZI\n",
      "    + 0.0625 * IZZZ\n",
      "    + 0.0625 * ZIII\n",
      "    + 0.0625 * ZIIZ\n",
      "    + 0.0625 * ZIZI\n",
      "    + 0.0625 * ZIZZ\n",
      "    + 0.0625 * ZZII\n",
      "    + 0.0625 * ZZIZ\n",
      "    + 0.0625 * ZZZI\n",
      "    + 0.0625 * ZZZZ),\n",
      "    CircuitStateFn(\n",
      "         »\n",
      "    q_0: »\n",
      "         »\n",
      "    q_1: »\n",
      "         »\n",
      "    q_2: »\n",
      "         »\n",
      "    q_3: »\n",
      "         »\n",
      "    «     ┌──────────────────────────────────────────────────────────────────────────────┐»\n",
      "    «q_0: ┤0                                                                             ├»\n",
      "    «     │                                                                              │»\n",
      "    «q_1: ┤1                                                                             ├»\n",
      "    «     │  EfficientSU2(θ[0],θ[1],θ[2],θ[3],θ[4],θ[5],θ[6],θ[7],θ[8],θ[9],θ[10],θ[11]) │»\n",
      "    «q_2: ┤2                                                                             ├»\n",
      "    «     │                                                                              │»\n",
      "    «q_3: ┤3                                                                             ├»\n",
      "    «     └──────────────────────────────────────────────────────────────────────────────┘»\n",
      "    «     ┌────────────────────────────────────────────────────────────────────────────────────────────────────────────────────────────────────────────────────────────────────────────────────────────────────────────────────────────────────────────┐\n",
      "    «q_0: ┤0                                                                                                                                                                                                                                           ├\n",
      "    «     │                                                                                                                                                                                                                                            │\n",
      "    «q_1: ┤1                                                                                                                                                                                                                                           ├\n",
      "    «     │  EfficientSU2_dg(2.07705970403238,3.43629679408617,-0.801731915569754,0.466462206109842,-0.835660807073424,-0.219466053689774,0.0627897496930318,0.973960864763096,0.987101925283500,-2.62697305661346,2.00743055719518,0.449993764819263) │\n",
      "    «q_2: ┤2                                                                                                                                                                                                                                           ├\n",
      "    «     │                                                                                                                                                                                                                                            │\n",
      "    «q_3: ┤3                                                                                                                                                                                                                                           ├\n",
      "    «     └────────────────────────────────────────────────────────────────────────────────────────────────────────────────────────────────────────────────────────────────────────────────────────────────────────────────────────────────────────────┘\n",
      "    )\n",
      "  ])\n",
      "])\n"
     ]
    }
   ],
   "source": [
    "print(H_tot2)"
   ]
  },
  {
   "cell_type": "code",
   "execution_count": null,
   "id": "edb6470d",
   "metadata": {},
   "outputs": [],
   "source": []
  }
 ],
 "metadata": {
  "kernelspec": {
   "display_name": "Python 3 (ipykernel)",
   "language": "python",
   "name": "python3"
  },
  "language_info": {
   "codemirror_mode": {
    "name": "ipython",
    "version": 3
   },
   "file_extension": ".py",
   "mimetype": "text/x-python",
   "name": "python",
   "nbconvert_exporter": "python",
   "pygments_lexer": "ipython3",
   "version": "3.9.7"
  }
 },
 "nbformat": 4,
 "nbformat_minor": 5
}
