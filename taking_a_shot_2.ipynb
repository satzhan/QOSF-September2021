{
 "cells": [
  {
   "cell_type": "code",
   "execution_count": 108,
   "id": "5c9820fe",
   "metadata": {},
   "outputs": [],
   "source": [
    "from qiskit_nature.drivers.second_quantization import HDF5Driver\n",
    "driver_reduced = HDF5Driver(\"./PSPCz_reduced.hdf5\")\n",
    "properties = driver_reduced.run()\n"
   ]
  },
  {
   "cell_type": "code",
   "execution_count": 109,
   "id": "a5d98d17",
   "metadata": {},
   "outputs": [],
   "source": [
    "from qiskit_nature.problems.second_quantization import ElectronicStructureProblem\n",
    "es_problem = ElectronicStructureProblem(driver_reduced)\n",
    "second_q_op = es_problem.second_q_ops()\n"
   ]
  },
  {
   "cell_type": "code",
   "execution_count": 110,
   "id": "887247d5",
   "metadata": {},
   "outputs": [
    {
     "name": "stdout",
     "output_type": "stream",
     "text": [
      "-0.45781773131305903 * IIII\n",
      "- 0.009666607989543467 * ZIII\n",
      "+ 0.12689900731767084 * IZII\n",
      "+ 0.030293077447785 * ZZII\n",
      "- 0.009666607989543479 * IIZI\n",
      "+ 0.03732964036584735 * ZIZI\n",
      "+ 0.034223590264106186 * IZZI\n",
      "+ 0.12689900731767084 * IIIZ\n",
      "+ 0.034223590264106186 * ZIIZ\n",
      "+ 0.05698995686717464 * IZIZ\n",
      "+ 0.030293077447785 * IIZZ\n",
      "+ 0.00014809461815615455 * XXII\n",
      "+ 0.00014809461815615455 * YYII\n",
      "- 7.872869677230731e-05 * XXZI\n",
      "- 7.872869677230731e-05 * YYZI\n",
      "+ 6.938452207544002e-05 * XXIZ\n",
      "+ 6.938452207544002e-05 * YYIZ\n",
      "+ 0.00014809461815615455 * IIXX\n",
      "- 7.872869677230731e-05 * ZIXX\n",
      "+ 6.938452207544002e-05 * IZXX\n",
      "+ 0.00014809461815615455 * IIYY\n",
      "- 7.872869677230731e-05 * ZIYY\n",
      "+ 6.938452207544002e-05 * IZYY\n",
      "+ 0.003930512816321183 * XXXX\n",
      "+ 0.003930512816321183 * YYXX\n",
      "+ 0.003930512816321183 * XXYY\n",
      "+ 0.003930512816321183 * YYYY\n"
     ]
    }
   ],
   "source": [
    "from qiskit_nature.converters.second_quantization import QubitConverter\n",
    "from qiskit_nature.mappers.second_quantization import JordanWignerMapper, ParityMapper, BravyiKitaevMapper\n",
    "qubit_converter = QubitConverter(JordanWignerMapper())\n",
    "qubit_op = qubit_converter.convert(second_q_op[0])\n",
    "print(qubit_op)"
   ]
  },
  {
   "cell_type": "code",
   "execution_count": 111,
   "id": "ab60ec8b",
   "metadata": {},
   "outputs": [
    {
     "data": {
      "text/html": [
       "<pre style=\"word-wrap: normal;white-space: pre;background: #fff0;line-height: 1.1;font-family: &quot;Courier New&quot;,Courier,monospace\">     ┌───┐\n",
       "q_0: ┤ X ├\n",
       "     └───┘\n",
       "q_1: ─────\n",
       "     ┌───┐\n",
       "q_2: ┤ X ├\n",
       "     └───┘\n",
       "q_3: ─────\n",
       "          </pre>"
      ],
      "text/plain": [
       "     ┌───┐\n",
       "q_0: ┤ X ├\n",
       "     └───┘\n",
       "q_1: ─────\n",
       "     ┌───┐\n",
       "q_2: ┤ X ├\n",
       "     └───┘\n",
       "q_3: ─────\n",
       "          "
      ]
     },
     "execution_count": 111,
     "metadata": {},
     "output_type": "execute_result"
    }
   ],
   "source": [
    "from qiskit_nature.circuit.library import HartreeFock\n",
    "init_state = HartreeFock(4, (1,1), qubit_converter)\n",
    "init_state.draw()"
   ]
  },
  {
   "cell_type": "code",
   "execution_count": 112,
   "id": "df1ae6ec",
   "metadata": {},
   "outputs": [
    {
     "data": {
      "text/html": [
       "<pre style=\"word-wrap: normal;white-space: pre;background: #fff0;line-height: 1.1;font-family: &quot;Courier New&quot;,Courier,monospace\">     ┌───┐   ┌───┐    ┌──────────┐                    ┌───┐┌──────────┐»\n",
       "q_0: ┤ X ├───┤ H ├────┤ Ry(θ[0]) ├──■────■─────────■──┤ H ├┤ Ry(θ[4]) ├»\n",
       "     ├───┤┌──┴───┴───┐└──────────┘┌─┴─┐  │         │  └───┘└──┬───┬───┘»\n",
       "q_1: ┤ H ├┤ Ry(θ[1]) ├────────────┤ X ├──┼────■────┼────■─────┤ H ├────»\n",
       "     ├───┤└──┬───┬───┘┌──────────┐└───┘┌─┴─┐┌─┴─┐  │    │     └───┘    »\n",
       "q_2: ┤ X ├───┤ H ├────┤ Ry(θ[2]) ├─────┤ X ├┤ X ├──┼────┼───────■──────»\n",
       "     ├───┤┌──┴───┴───┐└──────────┘     └───┘└───┘┌─┴─┐┌─┴─┐   ┌─┴─┐    »\n",
       "q_3: ┤ H ├┤ Ry(θ[3]) ├───────────────────────────┤ X ├┤ X ├───┤ X ├────»\n",
       "     └───┘└──────────┘                           └───┘└───┘   └───┘    »\n",
       "«                                            ┌───┐┌──────────┐            »\n",
       "«q_0: ─────────────────■────────■─────────■──┤ H ├┤ Ry(θ[8]) ├────────────»\n",
       "«     ┌──────────┐   ┌─┴─┐      │         │  └───┘└──┬───┬───┘┌──────────┐»\n",
       "«q_1: ┤ Ry(θ[5]) ├───┤ X ├──────┼────■────┼────■─────┤ H ├────┤ Ry(θ[9]) ├»\n",
       "«     └──┬───┬───┘┌──┴───┴───┐┌─┴─┐┌─┴─┐  │    │     └───┘    └──┬───┬───┘»\n",
       "«q_2: ───┤ H ├────┤ Ry(θ[6]) ├┤ X ├┤ X ├──┼────┼───────■─────────┤ H ├────»\n",
       "«        ├───┤    ├──────────┤└───┘└───┘┌─┴─┐┌─┴─┐   ┌─┴─┐       ├───┤    »\n",
       "«q_3: ───┤ H ├────┤ Ry(θ[7]) ├──────────┤ X ├┤ X ├───┤ X ├───────┤ H ├────»\n",
       "«        └───┘    └──────────┘          └───┘└───┘   └───┘       └───┘    »\n",
       "«                  \n",
       "«q_0: ─────────────\n",
       "«                  \n",
       "«q_1: ─────────────\n",
       "«     ┌───────────┐\n",
       "«q_2: ┤ Ry(θ[10]) ├\n",
       "«     ├───────────┤\n",
       "«q_3: ┤ Ry(θ[11]) ├\n",
       "«     └───────────┘</pre>"
      ],
      "text/plain": [
       "     ┌───┐   ┌───┐    ┌──────────┐                    ┌───┐┌──────────┐»\n",
       "q_0: ┤ X ├───┤ H ├────┤ Ry(θ[0]) ├──■────■─────────■──┤ H ├┤ Ry(θ[4]) ├»\n",
       "     ├───┤┌──┴───┴───┐└──────────┘┌─┴─┐  │         │  └───┘└──┬───┬───┘»\n",
       "q_1: ┤ H ├┤ Ry(θ[1]) ├────────────┤ X ├──┼────■────┼────■─────┤ H ├────»\n",
       "     ├───┤└──┬───┬───┘┌──────────┐└───┘┌─┴─┐┌─┴─┐  │    │     └───┘    »\n",
       "q_2: ┤ X ├───┤ H ├────┤ Ry(θ[2]) ├─────┤ X ├┤ X ├──┼────┼───────■──────»\n",
       "     ├───┤┌──┴───┴───┐└──────────┘     └───┘└───┘┌─┴─┐┌─┴─┐   ┌─┴─┐    »\n",
       "q_3: ┤ H ├┤ Ry(θ[3]) ├───────────────────────────┤ X ├┤ X ├───┤ X ├────»\n",
       "     └───┘└──────────┘                           └───┘└───┘   └───┘    »\n",
       "«                                            ┌───┐┌──────────┐            »\n",
       "«q_0: ─────────────────■────────■─────────■──┤ H ├┤ Ry(θ[8]) ├────────────»\n",
       "«     ┌──────────┐   ┌─┴─┐      │         │  └───┘└──┬───┬───┘┌──────────┐»\n",
       "«q_1: ┤ Ry(θ[5]) ├───┤ X ├──────┼────■────┼────■─────┤ H ├────┤ Ry(θ[9]) ├»\n",
       "«     └──┬───┬───┘┌──┴───┴───┐┌─┴─┐┌─┴─┐  │    │     └───┘    └──┬───┬───┘»\n",
       "«q_2: ───┤ H ├────┤ Ry(θ[6]) ├┤ X ├┤ X ├──┼────┼───────■─────────┤ H ├────»\n",
       "«        ├───┤    ├──────────┤└───┘└───┘┌─┴─┐┌─┴─┐   ┌─┴─┐       ├───┤    »\n",
       "«q_3: ───┤ H ├────┤ Ry(θ[7]) ├──────────┤ X ├┤ X ├───┤ X ├───────┤ H ├────»\n",
       "«        └───┘    └──────────┘          └───┘└───┘   └───┘       └───┘    »\n",
       "«                  \n",
       "«q_0: ─────────────\n",
       "«                  \n",
       "«q_1: ─────────────\n",
       "«     ┌───────────┐\n",
       "«q_2: ┤ Ry(θ[10]) ├\n",
       "«     ├───────────┤\n",
       "«q_3: ┤ Ry(θ[11]) ├\n",
       "«     └───────────┘"
      ]
     },
     "execution_count": 112,
     "metadata": {},
     "output_type": "execute_result"
    }
   ],
   "source": [
    "from qiskit.circuit.library import EfficientSU2, TwoLocal, NLocal, PauliTwoDesign\n",
    "from qiskit_nature.circuit.library import UCCSD, PUCCD, SUCCD\n",
    "\n",
    "ansatz = EfficientSU2(num_qubits = 4,\n",
    "                     su2_gates = ['h', 'ry'], \n",
    "                    entanglement = 'full',\n",
    "                    reps = 2,\n",
    "                    initial_state = init_state)\n",
    "ansatz.decompose().draw()"
   ]
  },
  {
   "cell_type": "code",
   "execution_count": 113,
   "id": "63fa9d0f",
   "metadata": {},
   "outputs": [],
   "source": [
    "from qiskit.providers.aer import StatevectorSimulator, QasmSimulator\n",
    "from qiskit.algorithms.optimizers import COBYLA, L_BFGS_B, SPSA, SLSQP\n",
    "backend = StatevectorSimulator()\n",
    "optimizer = COBYLA()"
   ]
  },
  {
   "cell_type": "code",
   "execution_count": 114,
   "id": "9ed4f48d",
   "metadata": {},
   "outputs": [],
   "source": [
    "from qiskit.algorithms import VQE\n",
    "from qiskit_nature.algorithms import VQEUCCFactory, GroundStateEigensolver\n",
    "from jupyterplot import ProgressPlot\n",
    "import numpy as np\n",
    "error_threshold = 10\n",
    "np.random.seed(5)\n",
    "initial_point = np.random.random(ansatz.num_parameters)"
   ]
  },
  {
   "cell_type": "code",
   "execution_count": 115,
   "id": "1336b3fa",
   "metadata": {},
   "outputs": [
    {
     "name": "stdout",
     "output_type": "stream",
     "text": [
      "=== GROUND STATE ENERGY ===\n",
      " \n",
      "* Electronic ground state energy (Hartree): -4043.631987584531\n",
      "  - computed part:      -0.765665024439\n",
      "  - ActiveSpaceTransformer extracted energy part: -4042.866322560092\n",
      " \n",
      "=== MEASURED OBSERVABLES ===\n",
      " \n",
      "  0:  # Particles: 2.000 S: 0.000 S^2: 0.000 M: -0.000\n"
     ]
    }
   ],
   "source": [
    "vqe = VQE(ansatz = ansatz,\n",
    "         optimizer = optimizer,\n",
    "         initial_point = initial_point,\n",
    "         quantum_instance = backend)\n",
    "\n",
    "vqe_ground_state_solver = GroundStateEigensolver(qubit_converter,\n",
    "                                                vqe)\n",
    "vqe_results = vqe_ground_state_solver.solve(es_problem)\n",
    "print(vqe_results)\n"
   ]
  },
  {
   "cell_type": "code",
   "execution_count": 116,
   "id": "e9c1aa2f",
   "metadata": {},
   "outputs": [
    {
     "name": "stdout",
     "output_type": "stream",
     "text": [
      "=== GROUND STATE ENERGY ===\n",
      " \n",
      "* Electronic ground state energy (Hartree): -4043.631987584531\n",
      "  - computed part:      -0.765665024439\n",
      "  - ActiveSpaceTransformer extracted energy part: -4042.866322560092\n",
      " \n",
      "=== EXCITED STATE ENERGIES ===\n",
      " \n",
      "  1: \n",
      "* Electronic excited state energy (Hartree): -4043.426917298302\n",
      "* Electronic excited state energy (Hartree): -4043.426917298302\n",
      "> Total excited state energy (Hartree): -4043.426917298302\n",
      "  2: \n",
      "* Electronic excited state energy (Hartree): -4043.395388322966\n",
      "* Electronic excited state energy (Hartree): -4043.395388322966\n",
      "> Total excited state energy (Hartree): -4043.395388322966\n",
      "  3: \n",
      "* Electronic excited state energy (Hartree): -4043.085721824136\n",
      "* Electronic excited state energy (Hartree): -4043.085721824136\n",
      "> Total excited state energy (Hartree): -4043.085721824136\n",
      " \n",
      "=== MEASURED OBSERVABLES ===\n",
      " \n",
      "  0:  # Particles: 2.000 S: 0.000 S^2: 0.000 M: -0.000\n"
     ]
    }
   ],
   "source": [
    "from qiskit_nature.algorithms import QEOM\n",
    "qeom_excited_state_solver = QEOM(vqe_ground_state_solver, 'sd')\n",
    "qeom_results = qeom_excited_state_solver.solve(es_problem)\n",
    "\n",
    "print(qeom_results)"
   ]
  },
  {
   "cell_type": "code",
   "execution_count": 117,
   "id": "16f5a473",
   "metadata": {},
   "outputs": [
    {
     "data": {
      "text/plain": [
       "0.20507028622962853"
      ]
     },
     "execution_count": 117,
     "metadata": {},
     "output_type": "execute_result"
    }
   ],
   "source": [
    "bandgap = qeom_results.computed_energies[1] - qeom_results.computed_energies[0]\n",
    "bandgap"
   ]
  },
  {
   "cell_type": "code",
   "execution_count": 118,
   "id": "4052955c",
   "metadata": {},
   "outputs": [],
   "source": [
    "vqe0 = vqe.get_optimal_circuit()"
   ]
  },
  {
   "cell_type": "code",
   "execution_count": 119,
   "id": "a025d0ec",
   "metadata": {},
   "outputs": [
    {
     "name": "stdout",
     "output_type": "stream",
     "text": [
      "I X Y Z\n",
      "ZIXY\n",
      "-0.45781773131305903 * IIII\n",
      "- 0.009666607989543467 * ZIII\n",
      "+ 0.12689900731767084 * IZII\n",
      "+ 0.030293077447785 * ZZII\n",
      "- 0.009666607989543479 * IIZI\n",
      "+ 0.03732964036584735 * ZIZI\n",
      "+ 0.034223590264106186 * IZZI\n",
      "+ 0.12689900731767084 * IIIZ\n",
      "+ 0.034223590264106186 * ZIIZ\n",
      "+ 0.05698995686717464 * IZIZ\n",
      "+ 0.030293077447785 * IIZZ\n",
      "+ 0.00014809461815615455 * XXII\n",
      "+ 0.00014809461815615455 * YYII\n",
      "- 7.872869677230731e-05 * XXZI\n",
      "- 7.872869677230731e-05 * YYZI\n",
      "+ 6.938452207544002e-05 * XXIZ\n",
      "+ 6.938452207544002e-05 * YYIZ\n",
      "+ 0.00014809461815615455 * IIXX\n",
      "- 7.872869677230731e-05 * ZIXX\n",
      "+ 6.938452207544002e-05 * IZXX\n",
      "+ 0.00014809461815615455 * IIYY\n",
      "- 7.872869677230731e-05 * ZIYY\n",
      "+ 6.938452207544002e-05 * IZYY\n",
      "+ 0.003930512816321183 * XXXX\n",
      "+ 0.003930512816321183 * YYXX\n",
      "+ 0.003930512816321183 * XXYY\n",
      "+ 0.003930512816321183 * YYYY\n"
     ]
    }
   ],
   "source": [
    "from qiskit.opflow import I, X, Y, Z\n",
    "print(I, X, Y, Z)\n",
    "H_op = Z ^ I ^ X ^ Y\n",
    "print(H_op)\n",
    "qubit_converter = QubitConverter(JordanWignerMapper())\n",
    "qubit_op = qubit_converter.convert(second_q_op[0])\n",
    "H_op = qubit_op\n",
    "print(H_op)"
   ]
  },
  {
   "cell_type": "code",
   "execution_count": 120,
   "id": "50ec3825",
   "metadata": {},
   "outputs": [],
   "source": [
    "ansatz = EfficientSU2(num_qubits = 4,\n",
    "                     su2_gates = ['h', 'ry'], \n",
    "                    entanglement = 'full',\n",
    "                    reps = 2,\n",
    "                    initial_state = init_state)\n",
    "\n",
    "optimizer = optimizer\n",
    "initial_point = np.random.random(ansatz.num_parameters)\n",
    "backend = StatevectorSimulator()\n",
    "\n",
    "vqe = VQE(ansatz = ansatz,\n",
    "         optimizer = optimizer,\n",
    "         initial_point = initial_point,\n",
    "         quantum_instance = backend)\n"
   ]
  },
  {
   "cell_type": "code",
   "execution_count": 121,
   "id": "b0c31d95",
   "metadata": {},
   "outputs": [
    {
     "name": "stdout",
     "output_type": "stream",
     "text": [
      "{   'aux_operator_eigenvalues': None,\n",
      "    'cost_function_evals': 1000,\n",
      "    'eigenstate': array([ 3.12089778e-06+2.10595821e-19j,  1.51174401e-04-4.72068614e-17j,\n",
      "        6.18394864e-06-7.55405928e-20j, -4.27267088e-08-5.00445328e-17j,\n",
      "        2.27987743e-04-6.06739419e-17j,  9.99972091e-01+7.24030275e-16j,\n",
      "        1.95765032e-05-2.67992627e-20j, -2.62410227e-04+1.30806044e-16j,\n",
      "        7.15364899e-03+4.77045389e-18j, -3.55029889e-06-5.26076717e-17j,\n",
      "       -2.10158123e-03-2.42611241e-18j,  8.78081158e-07+1.57407772e-19j,\n",
      "        3.40209725e-05-1.66734866e-19j, -2.82937896e-04+3.11578667e-17j,\n",
      "       -1.00190647e-05-3.35283006e-19j,  1.28824509e-07-4.44409188e-20j]),\n",
      "    'eigenvalue': (-0.7656965875992804+0j),\n",
      "    'optimal_parameters': {   ParameterVectorElement(θ[7]): 8.269378641811124e-05,\n",
      "                              ParameterVectorElement(θ[11]): 1.5593630759698853,\n",
      "                              ParameterVectorElement(θ[9]): 1.2847958198590805,\n",
      "                              ParameterVectorElement(θ[6]): -0.014867945453428595,\n",
      "                              ParameterVectorElement(θ[4]): -2.6215549075316788e-05,\n",
      "                              ParameterVectorElement(θ[3]): 1.5711010350439945,\n",
      "                              ParameterVectorElement(θ[5]): -1.6630610450597117e-05,\n",
      "                              ParameterVectorElement(θ[8]): -0.0007125269600330824,\n",
      "                              ParameterVectorElement(θ[10]): 1.0201173070190375,\n",
      "                              ParameterVectorElement(θ[1]): -0.5503771833990118,\n",
      "                              ParameterVectorElement(θ[2]): -0.010866177919469512,\n",
      "                              ParameterVectorElement(θ[0]): -0.28547568808251705},\n",
      "    'optimal_point': array([-2.85475688e-01, -5.50377183e-01, -1.08661779e-02,  1.57110104e+00,\n",
      "       -2.62155491e-05, -1.66306105e-05, -1.48679455e-02,  8.26937864e-05,\n",
      "       -7.12526960e-04,  1.28479582e+00,  1.02011731e+00,  1.55936308e+00]),\n",
      "    'optimal_value': -0.7656965875992804,\n",
      "    'optimizer_evals': None,\n",
      "    'optimizer_time': 2.451158676999512}\n"
     ]
    }
   ],
   "source": [
    "result = vqe.compute_minimum_eigenvalue(operator=H_op)\n",
    "# I just realized how impossible H_op + overlap is\n",
    "# vqe solves <ansatz | H | ansatz>\n",
    "# vqd solves <ansatz | H | ansatz> + |<ansatz | prev_ansatz>|^2\n",
    "# <ansatz | Penalty_op | ansatz>\n",
    "# Penalty_op = prev_ansatz*[I + Z] ^ n * prev_ansatz / 2^n\n",
    "print(result)"
   ]
  },
  {
   "cell_type": "code",
   "execution_count": 122,
   "id": "20e89dde",
   "metadata": {},
   "outputs": [
    {
     "name": "stdout",
     "output_type": "stream",
     "text": [
      "4\n",
      "0.0625 * IIII\n",
      "+ 0.0625 * IIIZ\n",
      "+ 0.0625 * IIZI\n",
      "+ 0.0625 * IIZZ\n",
      "+ 0.0625 * IZII\n",
      "+ 0.0625 * IZIZ\n",
      "+ 0.0625 * IZZI\n",
      "+ 0.0625 * IZZZ\n",
      "+ 0.0625 * ZIII\n",
      "+ 0.0625 * ZIIZ\n",
      "+ 0.0625 * ZIZI\n",
      "+ 0.0625 * ZIZZ\n",
      "+ 0.0625 * ZZII\n",
      "+ 0.0625 * ZZIZ\n",
      "+ 0.0625 * ZZZI\n",
      "+ 0.0625 * ZZZZ\n"
     ]
    }
   ],
   "source": [
    "n = 4\n",
    "print(n)\n",
    "#zero_proj = (1 / 2**n) * (I + Z) ** n\n",
    "zero_proj = (1 / 2**n) * (I + Z) ^ (I + Z) ^ (I + Z) ^ (I + Z)\n",
    "print(zero_proj)"
   ]
  },
  {
   "cell_type": "code",
   "execution_count": 123,
   "id": "e7c33abf",
   "metadata": {},
   "outputs": [
    {
     "ename": "SyntaxError",
     "evalue": "invalid syntax (2777693715.py, line 1)",
     "output_type": "error",
     "traceback": [
      "\u001b[0;36m  File \u001b[0;32m\"/tmp/ipykernel_44678/2777693715.py\"\u001b[0;36m, line \u001b[0;32m1\u001b[0m\n\u001b[0;31m    from qiskit.opflow istmport CircuitOp\u001b[0m\n\u001b[0m                       ^\u001b[0m\n\u001b[0;31mSyntaxError\u001b[0m\u001b[0;31m:\u001b[0m invalid syntax\n"
     ]
    }
   ],
   "source": [
    "from qiskit.opflow istmport CircuitOp\n",
    "opt_circ = vqe.get_optimal_circuit()\n",
    "test_state = CircuitOp(opt_circ)"
   ]
  },
  {
   "cell_type": "code",
   "execution_count": 124,
   "id": "aa5b0331",
   "metadata": {},
   "outputs": [
    {
     "ename": "IndentationError",
     "evalue": "expected an indented block (1673459248.py, line 3)",
     "output_type": "error",
     "traceback": [
      "\u001b[0;36m  File \u001b[0;32m\"/tmp/ipykernel_44678/1673459248.py\"\u001b[0;36m, line \u001b[0;32m3\u001b[0m\n\u001b[0;31m    \u001b[0m\n\u001b[0m    ^\u001b[0m\n\u001b[0;31mIndentationError\u001b[0m\u001b[0;31m:\u001b[0m expected an indented block\n"
     ]
    }
   ],
   "source": [
    "print(test_state.adjoint())\n",
    "    "
   ]
  },
  {
   "cell_type": "code",
   "execution_count": 1,
   "id": "219d3390",
   "metadata": {},
   "outputs": [
    {
     "ename": "NameError",
     "evalue": "name 'SLSQP' is not defined",
     "output_type": "error",
     "traceback": [
      "\u001b[0;31m---------------------------------------------------------------------------\u001b[0m",
      "\u001b[0;31mNameError\u001b[0m                                 Traceback (most recent call last)",
      "\u001b[0;32m/tmp/ipykernel_16074/1294707598.py\u001b[0m in \u001b[0;36m<module>\u001b[0;34m\u001b[0m\n\u001b[1;32m     12\u001b[0m \u001b[0mansatz\u001b[0m\u001b[0;34m.\u001b[0m\u001b[0mry\u001b[0m\u001b[0;34m(\u001b[0m\u001b[0mnu\u001b[0m\u001b[0;34m[\u001b[0m\u001b[0;36m1\u001b[0m\u001b[0;34m]\u001b[0m\u001b[0;34m,\u001b[0m \u001b[0;36m0\u001b[0m\u001b[0;34m)\u001b[0m\u001b[0;34m\u001b[0m\u001b[0;34m\u001b[0m\u001b[0m\n\u001b[1;32m     13\u001b[0m \u001b[0;34m\u001b[0m\u001b[0m\n\u001b[0;32m---> 14\u001b[0;31m \u001b[0mopt\u001b[0m \u001b[0;34m=\u001b[0m \u001b[0mSLSQP\u001b[0m\u001b[0;34m(\u001b[0m\u001b[0mmaxiter\u001b[0m\u001b[0;34m=\u001b[0m\u001b[0;36m1000\u001b[0m\u001b[0;34m)\u001b[0m\u001b[0;34m\u001b[0m\u001b[0;34m\u001b[0m\u001b[0m\n\u001b[0m\u001b[1;32m     15\u001b[0m \u001b[0mqi\u001b[0m \u001b[0;34m=\u001b[0m \u001b[0mStatevectorSimulator\u001b[0m\u001b[0;34m(\u001b[0m\u001b[0;34m)\u001b[0m\u001b[0;34m\u001b[0m\u001b[0;34m\u001b[0m\u001b[0m\n\u001b[1;32m     16\u001b[0m \u001b[0mvqe\u001b[0m \u001b[0;34m=\u001b[0m \u001b[0mVQE\u001b[0m\u001b[0;34m(\u001b[0m\u001b[0mansatz\u001b[0m\u001b[0;34m,\u001b[0m \u001b[0moptimizer\u001b[0m\u001b[0;34m=\u001b[0m\u001b[0mopt\u001b[0m\u001b[0;34m,\u001b[0m \u001b[0mquantum_instance\u001b[0m\u001b[0;34m=\u001b[0m\u001b[0mqi\u001b[0m\u001b[0;34m)\u001b[0m\u001b[0;34m\u001b[0m\u001b[0;34m\u001b[0m\u001b[0m\n",
      "\u001b[0;31mNameError\u001b[0m: name 'SLSQP' is not defined"
     ]
    }
   ],
   "source": [
    "from qiskit import QuantumCircuit, ClassicalRegister, QuantumRegister\n",
    "from qiskit.circuit.parametervector import ParameterVector\n",
    "from qiskit.quantum_info.operators import Operator, Pauli\n",
    "from qiskit.opflow import CircuitStateFn, StateFn\n",
    "from qiskit.opflow import I, X, Y, Z, H, CX, Zero, ListOp, PauliExpectation, PauliTrotterEvolution, CircuitSampler, MatrixEvolution, Suzuki\n",
    "\n",
    "H_op = (0.5 * Z) \n",
    "ansatz = QuantumCircuit(1)\n",
    "nu = ParameterVector('nu', 2)\n",
    "ansatz.h(0)\n",
    "ansatz.rz(nu[0], 0)\n",
    "ansatz.ry(nu[1], 0)\n",
    "\n",
    "opt = SLSQP(maxiter=1000)\n",
    "qi = StatevectorSimulator()\n",
    "vqe = VQE(ansatz, optimizer=opt, quantum_instance=qi)\n",
    "result = vqe.compute_minimum_eigenvalue(operator=H_op)\n",
    "\n",
    "opt_circ = vqe.get_optimal_circuit() # seems to be deprecated - what is the new implementation?\n",
    "\n",
    "test_state = CircuitOp(opt_circ)\n",
    "zero_proj = (0.5 * (I+Z)) \n",
    "print(H_op)\n"
   ]
  },
  {
   "cell_type": "code",
   "execution_count": 128,
   "id": "c115d660",
   "metadata": {},
   "outputs": [
    {
     "name": "stdout",
     "output_type": "stream",
     "text": [
      "CircuitStateFn(\n",
      "     ┌───┐┌───────────┐┌───────────┐\n",
      "q_0: ┤ H ├┤ Rz(nu[0]) ├┤ Ry(nu[1]) ├\n",
      "     └───┘└───────────┘└───────────┘\n",
      ")\n",
      "OperatorMeasurement(0.5 * Z)\n",
      "Pauli\n",
      "ComposedOp([\n",
      "  OperatorMeasurement(0.5 * Z),\n",
      "  CircuitStateFn(\n",
      "       ┌───┐┌───────────┐┌───────────┐\n",
      "  q_0: ┤ H ├┤ Rz(nu[0]) ├┤ Ry(nu[1]) ├\n",
      "       └───┘└───────────┘└───────────┘\n",
      "  )\n",
      "])\n",
      "\n",
      "ComposedOp([\n",
      "  OperatorMeasurement(0.5 * Z),\n",
      "  CircuitStateFn(\n",
      "       ┌───┐┌───────────┐┌───────────┐\n",
      "  q_0: ┤ H ├┤ Rz(nu[0]) ├┤ Ry(nu[1]) ├\n",
      "       └───┘└───────────┘└───────────┘\n",
      "  )\n",
      "])\n",
      "(-0.4207354924039482+0j)\n"
     ]
    }
   ],
   "source": [
    "circuit_ansatz = CircuitStateFn(ansatz)\n",
    "print(circuit_ansatz)\n",
    "\n",
    "print(StateFn(H_op).adjoint())\n",
    "H_adj = StateFn(H_op).adjoint()\n",
    "ansatz_and_H = H_adj @ circuit_ansatz\n",
    "print(\"Pauli\")\n",
    "print(PauliExpectation().convert(ansatz_and_H))\n",
    "print()\n",
    "print(ansatz_and_H)\n",
    "sampler = CircuitSampler(backend=backend)\n",
    "init_points = list(range(2))\n",
    "binded = ansatz_and_H.bind_parameters({nu: init_points})\n",
    "sampled = sampler.convert(binded)\n",
    "print(sampled.eval())\n",
    "# adj = Operator(test_state.adjoint())\n",
    "# pre = Operator(test_state)\n",
    "# print(adj)\n",
    "# H_op = Operator(H_op).compose(pre)\n",
    "# adj.compose(H_op)\n",
    "# # + adj @ zero_proj @ pre\n",
    "result_ex = vqe.compute_minimum_eigenvalue(operator=H_op)\n",
    "#print(result_ex)"
   ]
  },
  {
   "cell_type": "code",
   "execution_count": 154,
   "id": "1bd97172",
   "metadata": {},
   "outputs": [
    {
     "name": "stdout",
     "output_type": "stream",
     "text": [
      "(-0.4207354924039482+0j)\n"
     ]
    }
   ],
   "source": [
    "# initialize toy model xD\n",
    "H_op = (0.5 * Z) \n",
    "ansatz = QuantumCircuit(1)\n",
    "nu = ParameterVector('nu', 2)\n",
    "ansatz.h(0)\n",
    "ansatz.rz(nu[0], 0)\n",
    "ansatz.ry(nu[1], 0)\n",
    "\n",
    "# Convert stuff into OpFlow\n",
    "H_meas = StateFn(H_op, is_measurement=True) # is_measurement\n",
    "circuit_ansatz = CircuitStateFn(ansatz) # Circuit?\n",
    "H_and_ansatz = H_meas @ circuit_ansatz # whatever this is\n",
    "\n",
    "# had to figure to bind parameters here\n",
    "sampler = CircuitSampler(backend=backend)\n",
    "init_points = list(range(2))\n",
    "binded = H_and_ansatz.bind_parameters({nu: init_points}) #works?\n",
    "sampled = sampler.convert(binded)\n",
    "\n",
    "print(sampled.eval())\n"
   ]
  },
  {
   "cell_type": "code",
   "execution_count": 160,
   "id": "b76f4256",
   "metadata": {},
   "outputs": [
    {
     "name": "stdout",
     "output_type": "stream",
     "text": [
      "(0.5001182291522088+0j)\n"
     ]
    }
   ],
   "source": [
    "opt_circ = vqe.get_optimal_circuit() \n",
    "zero_proj = (0.5 * (I+Z)) # like H_op\n",
    "\n",
    "zero_proj_meas = StateFn(zero_proj, is_measurement=True) \n",
    "Penalty_ansatz = CircuitStateFn(ansatz + opt_circ.inverse()) # like an ansatz\n",
    "Penalty_and_ansatz = zero_proj_meas @ Penalty_ansatz\n",
    "\n",
    "H_tot = H_and_ansatz + Penalty_and_ansatz\n",
    "\n",
    "sampler = CircuitSampler(backend=backend)\n",
    "init_points = list(range(2))\n",
    "binded = H_tot.bind_parameters({nu: init_points}) #works?\n",
    "sampled = sampler.convert(binded)\n",
    "\n",
    "print(sampled.eval())"
   ]
  },
  {
   "cell_type": "code",
   "execution_count": null,
   "id": "7db40471",
   "metadata": {},
   "outputs": [],
   "source": []
  },
  {
   "cell_type": "code",
   "execution_count": null,
   "id": "e879c2dc",
   "metadata": {},
   "outputs": [],
   "source": []
  }
 ],
 "metadata": {
  "kernelspec": {
   "display_name": "Python 3 (ipykernel)",
   "language": "python",
   "name": "python3"
  },
  "language_info": {
   "codemirror_mode": {
    "name": "ipython",
    "version": 3
   },
   "file_extension": ".py",
   "mimetype": "text/x-python",
   "name": "python",
   "nbconvert_exporter": "python",
   "pygments_lexer": "ipython3",
   "version": "3.9.7"
  }
 },
 "nbformat": 4,
 "nbformat_minor": 5
}
