{
 "cells": [
  {
   "cell_type": "code",
   "execution_count": 1,
   "id": "df966dae",
   "metadata": {},
   "outputs": [],
   "source": [
    "#initialization\n",
    "import matplotlib.pyplot as plt\n",
    "import numpy as np\n",
    "import math\n",
    "\n",
    "# importing Qiskit\n",
    "from qiskit import IBMQ, Aer, assemble, transpile, execute\n",
    "from qiskit import QuantumCircuit, ClassicalRegister, QuantumRegister\n",
    "from qiskit.providers.ibmq import least_busy\n",
    "\n",
    "# import basic plot tools\n",
    "from qiskit.visualization import plot_histogram\n"
   ]
  },
  {
   "cell_type": "markdown",
   "id": "8397c02b",
   "metadata": {},
   "source": [
    "### Task 1: <br />\n",
    "* given an input list with N = 2^n numbers of bitsize m <br />\n",
    "* return superpositions of the numbers that have alternating  bitstring. <br />\n",
    "* It is guaranteed there will be M = 2 numbers with alternating bitstrings. <br />\n"
   ]
  },
  {
   "cell_type": "code",
   "execution_count": 68,
   "id": "d9d0373d",
   "metadata": {},
   "outputs": [],
   "source": [
    "def groverSearch(nums, m):\n",
    "    N = len(nums)\n",
    "    n = math.ceil(math.log2(N)) + 1 # number of qubits needed + extra qubit\n",
    "    M = 2 # number of solutions\n",
    "    clause_list = [[i, i + 1] for i in range(m - 1)]\n",
    "    ################### define useful functions\n",
    "    def diffuser(nqubits):\n",
    "        qc = QuantumCircuit(nqubits)\n",
    "        for qubit in range(nqubits):\n",
    "            qc.h(qubit)\n",
    "        for qubit in range(nqubits):\n",
    "            qc.x(qubit)\n",
    "        qc.h(nqubits-1)\n",
    "        qc.mct(list(range(nqubits-1)), nqubits-1)\n",
    "        qc.h(nqubits-1)\n",
    "        for qubit in range(nqubits):\n",
    "            qc.x(qubit)\n",
    "        for qubit in range(nqubits):\n",
    "            qc.h(qubit)\n",
    "        U_s = qc.to_gate()\n",
    "        U_s.name = \"U$_s$\"\n",
    "        return U_s\n",
    "    def getBits(num):\n",
    "        ret = []\n",
    "        i = 0\n",
    "        while (1 << i) <= num:\n",
    "            if (num & (1 << i)) > 0:\n",
    "                ret.append(i)\n",
    "            i += 1\n",
    "        return ret\n",
    "    def XOR(qc, a, b, target):\n",
    "        qc.cx(a, target)\n",
    "        qc.cx(b, target)\n",
    "    def task1oracle(qc, indices, nums, nums_qubits, clause_list, clause_qubits):\n",
    "        def clauses():\n",
    "            qc = QuantumCircuit(nums_qubits, clause_qubits)\n",
    "            i = 0\n",
    "            for clause in clause_list:\n",
    "                XOR(qc, nums_qubits[clause[0]], nums_qubits[clause[1]], clause_qubits[i])\n",
    "                i += 1\n",
    "            qc.barrier()\n",
    "            return qc\n",
    "        def qram():\n",
    "            qc = QuantumCircuit(indices, nums_qubits)\n",
    "            for i in range(N):\n",
    "                for j in range(n):\n",
    "                    if (i & (1 << j)) == 0:\n",
    "                        qc.x(j)\n",
    "                num_bits = getBits(nums[i])\n",
    "                for j in num_bits:\n",
    "                    qc.mct(indices, nums_qubits[j])\n",
    "                for j in range(n):\n",
    "                    if (i & (1 << j)) == 0:\n",
    "                        qc.x(j)\n",
    "            qc.barrier()\n",
    "            return qc\n",
    "        qc += qram()  \n",
    "        qc += clauses()\n",
    "        qc.mct(clause_qubits, oracle_qubit)\n",
    "        qc += clauses().inverse()\n",
    "        qc += qram().inverse()\n",
    "\n",
    "    ################### end of useful functions\n",
    "    \n",
    "    ################### initialize QuantumCircuit\n",
    "    indices = QuantumRegister(n, name='indices')\n",
    "    nums_qubits = QuantumRegister(m, name='nums_qubits')\n",
    "    clause_qubits = QuantumRegister(len(clause_list), name='clause_qubits')\n",
    "    oracle_qubit = QuantumRegister(1, name='oracle_qubit')\n",
    "    cbits = ClassicalRegister(n - 1, name='cbits')\n",
    "    qc = QuantumCircuit(indices, nums_qubits, clause_qubits, oracle_qubit, cbits)\n",
    "    \n",
    "    ### intitialize flip/oracle qubit\n",
    "    qc.initialize([1, -1]/np.sqrt(2), oracle_qubit)\n",
    "    \n",
    "    ### intitialize qram superposition\n",
    "    qc.h(indices)\n",
    "\n",
    "    qc.barrier()\n",
    "    ################### end of initialize QuantumCircuit\n",
    "   \n",
    "    ################### run the Grover Amplification\n",
    "    number_of_iterations = round(np.pi / 4 * math.sqrt(2 * N / M) - 0.5)\n",
    "    print(\"number of iterations = \", number_of_iterations)\n",
    "    for i in range(number_of_iterations):\n",
    "        task1oracle(qc, indices, \n",
    "                    nums, nums_qubits, \n",
    "                    clause_list, clause_qubits)\n",
    "        qc.append(diffuser(n), list(range(n)))\n",
    "        qc.barrier()\n",
    "    qc.measure(indices[:-1], cbits)\n",
    "    \n",
    "    return qc"
   ]
  },
  {
   "cell_type": "code",
   "execution_count": 75,
   "id": "b522c491",
   "metadata": {},
   "outputs": [
    {
     "name": "stdout",
     "output_type": "stream",
     "text": [
      "number of iterations =  2\n"
     ]
    }
   ],
   "source": [
    "qc = groverSearch([21,6,10,7,1,2,3,4,8,9,11], 5)\n",
    "#qc.draw('mpl')"
   ]
  },
  {
   "cell_type": "code",
   "execution_count": 76,
   "id": "848fd8e8",
   "metadata": {},
   "outputs": [
    {
     "data": {
      "image/png": "[encoded data removed]",
      "text/plain": [
       "<Figure size 504x360 with 1 Axes>"
      ]
     },
     "execution_count": 76,
     "metadata": {},
     "output_type": "execute_result"
    }
   ],
   "source": [
    "aer_sim = Aer.get_backend('aer_simulator')\n",
    "transpiled_grover_circuit = transpile(qc, aer_sim)\n",
    "qobj = assemble(transpiled_grover_circuit)\n",
    "results = aer_sim.run(qobj).result()\n",
    "counts = results.get_counts()\n",
    "plot_histogram(counts)"
   ]
  },
  {
   "cell_type": "code",
   "execution_count": null,
   "id": "62cc619d",
   "metadata": {},
   "outputs": [],
   "source": []
  }
 ],
 "metadata": {
  "kernelspec": {
   "display_name": "Python 3 (ipykernel)",
   "language": "python",
   "name": "python3"
  },
  "language_info": {
   "codemirror_mode": {
    "name": "ipython",
    "version": 3
   },
   "file_extension": ".py",
   "mimetype": "text/x-python",
   "name": "python",
   "nbconvert_exporter": "python",
   "pygments_lexer": "ipython3",
   "version": "3.9.5"
  }
 },
 "nbformat": 4,
 "nbformat_minor": 5
}
