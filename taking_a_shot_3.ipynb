{
 "cells": [
  {
   "cell_type": "code",
   "execution_count": 269,
   "id": "6db6eb0b",
   "metadata": {},
   "outputs": [],
   "source": [
    "from qiskit_nature.drivers.second_quantization import HDF5Driver\n",
    "driver_reduced = HDF5Driver(\"./PSPCz_reduced.hdf5\")\n",
    "properties = driver_reduced.run()\n"
   ]
  },
  {
   "cell_type": "code",
   "execution_count": 270,
   "id": "d2a4c570",
   "metadata": {},
   "outputs": [
    {
     "name": "stdout",
     "output_type": "stream",
     "text": [
      "4\n"
     ]
    }
   ],
   "source": [
    "from qiskit_nature.problems.second_quantization import ElectronicStructureProblem\n",
    "es_problem = ElectronicStructureProblem(driver_reduced)\n",
    "second_q_op = es_problem.second_q_ops()\n",
    "print(len(second_q_op))"
   ]
  },
  {
   "cell_type": "code",
   "execution_count": 347,
   "id": "5aa14fe1",
   "metadata": {},
   "outputs": [
    {
     "name": "stdout",
     "output_type": "stream",
     "text": [
      "-0.45781773131305903 * IIII\n",
      "- 0.009666607989543467 * ZIII\n",
      "+ 0.12689900731767084 * IZII\n",
      "+ 0.030293077447785 * ZZII\n",
      "- 0.009666607989543479 * IIZI\n",
      "+ 0.03732964036584735 * ZIZI\n",
      "+ 0.034223590264106186 * IZZI\n",
      "+ 0.12689900731767084 * IIIZ\n",
      "+ 0.034223590264106186 * ZIIZ\n",
      "+ 0.05698995686717464 * IZIZ\n",
      "+ 0.030293077447785 * IIZZ\n",
      "+ 0.00014809461815615455 * XXII\n",
      "+ 0.00014809461815615455 * YYII\n",
      "- 7.872869677230731e-05 * XXZI\n",
      "- 7.872869677230731e-05 * YYZI\n",
      "+ 6.938452207544002e-05 * XXIZ\n",
      "+ 6.938452207544002e-05 * YYIZ\n",
      "+ 0.00014809461815615455 * IIXX\n",
      "- 7.872869677230731e-05 * ZIXX\n",
      "+ 6.938452207544002e-05 * IZXX\n",
      "+ 0.00014809461815615455 * IIYY\n",
      "- 7.872869677230731e-05 * ZIYY\n",
      "+ 6.938452207544002e-05 * IZYY\n",
      "+ 0.003930512816321183 * XXXX\n",
      "+ 0.003930512816321183 * YYXX\n",
      "+ 0.003930512816321183 * XXYY\n",
      "+ 0.003930512816321183 * YYYY\n"
     ]
    }
   ],
   "source": [
    "from qiskit_nature.converters.second_quantization import QubitConverter\n",
    "from qiskit_nature.mappers.second_quantization import JordanWignerMapper, ParityMapper \n",
    "qubit_converter = QubitConverter(JordanWignerMapper())\n",
    "qubit_op = qubit_converter.convert(second_q_op[0])\n",
    "print(qubit_op)"
   ]
  },
  {
   "cell_type": "code",
   "execution_count": 348,
   "id": "2a504c67",
   "metadata": {},
   "outputs": [
    {
     "data": {
      "text/html": [
       "<pre style=\"word-wrap: normal;white-space: pre;background: #fff0;line-height: 1.1;font-family: &quot;Courier New&quot;,Courier,monospace\">     ┌───┐\n",
       "q_0: ┤ X ├\n",
       "     └───┘\n",
       "q_1: ─────\n",
       "     ┌───┐\n",
       "q_2: ┤ X ├\n",
       "     └───┘\n",
       "q_3: ─────\n",
       "          </pre>"
      ],
      "text/plain": [
       "     ┌───┐\n",
       "q_0: ┤ X ├\n",
       "     └───┘\n",
       "q_1: ─────\n",
       "     ┌───┐\n",
       "q_2: ┤ X ├\n",
       "     └───┘\n",
       "q_3: ─────\n",
       "          "
      ]
     },
     "execution_count": 348,
     "metadata": {},
     "output_type": "execute_result"
    }
   ],
   "source": [
    "from qiskit_nature.circuit.library import HartreeFock\n",
    "init_state = HartreeFock(4, (1,1), qubit_converter)\n",
    "init_state.draw()"
   ]
  },
  {
   "cell_type": "code",
   "execution_count": 349,
   "id": "7b35f817",
   "metadata": {},
   "outputs": [
    {
     "data": {
      "text/html": [
       "<pre style=\"word-wrap: normal;white-space: pre;background: #fff0;line-height: 1.1;font-family: &quot;Courier New&quot;,Courier,monospace\">     ┌───┐   ┌───┐    ┌──────────┐                    ┌───┐┌──────────┐»\n",
       "q_0: ┤ X ├───┤ H ├────┤ Ry(θ[0]) ├──■────■─────────■──┤ H ├┤ Ry(θ[4]) ├»\n",
       "     ├───┤┌──┴───┴───┐└──────────┘┌─┴─┐  │         │  └───┘└──┬───┬───┘»\n",
       "q_1: ┤ H ├┤ Ry(θ[1]) ├────────────┤ X ├──┼────■────┼────■─────┤ H ├────»\n",
       "     ├───┤└──┬───┬───┘┌──────────┐└───┘┌─┴─┐┌─┴─┐  │    │     └───┘    »\n",
       "q_2: ┤ X ├───┤ H ├────┤ Ry(θ[2]) ├─────┤ X ├┤ X ├──┼────┼───────■──────»\n",
       "     ├───┤┌──┴───┴───┐└──────────┘     └───┘└───┘┌─┴─┐┌─┴─┐   ┌─┴─┐    »\n",
       "q_3: ┤ H ├┤ Ry(θ[3]) ├───────────────────────────┤ X ├┤ X ├───┤ X ├────»\n",
       "     └───┘└──────────┘                           └───┘└───┘   └───┘    »\n",
       "«                                            ┌───┐┌──────────┐            »\n",
       "«q_0: ─────────────────■────────■─────────■──┤ H ├┤ Ry(θ[8]) ├────────────»\n",
       "«     ┌──────────┐   ┌─┴─┐      │         │  └───┘└──┬───┬───┘┌──────────┐»\n",
       "«q_1: ┤ Ry(θ[5]) ├───┤ X ├──────┼────■────┼────■─────┤ H ├────┤ Ry(θ[9]) ├»\n",
       "«     └──┬───┬───┘┌──┴───┴───┐┌─┴─┐┌─┴─┐  │    │     └───┘    └──┬───┬───┘»\n",
       "«q_2: ───┤ H ├────┤ Ry(θ[6]) ├┤ X ├┤ X ├──┼────┼───────■─────────┤ H ├────»\n",
       "«        ├───┤    ├──────────┤└───┘└───┘┌─┴─┐┌─┴─┐   ┌─┴─┐       ├───┤    »\n",
       "«q_3: ───┤ H ├────┤ Ry(θ[7]) ├──────────┤ X ├┤ X ├───┤ X ├───────┤ H ├────»\n",
       "«        └───┘    └──────────┘          └───┘└───┘   └───┘       └───┘    »\n",
       "«                  \n",
       "«q_0: ─────────────\n",
       "«                  \n",
       "«q_1: ─────────────\n",
       "«     ┌───────────┐\n",
       "«q_2: ┤ Ry(θ[10]) ├\n",
       "«     ├───────────┤\n",
       "«q_3: ┤ Ry(θ[11]) ├\n",
       "«     └───────────┘</pre>"
      ],
      "text/plain": [
       "     ┌───┐   ┌───┐    ┌──────────┐                    ┌───┐┌──────────┐»\n",
       "q_0: ┤ X ├───┤ H ├────┤ Ry(θ[0]) ├──■────■─────────■──┤ H ├┤ Ry(θ[4]) ├»\n",
       "     ├───┤┌──┴───┴───┐└──────────┘┌─┴─┐  │         │  └───┘└──┬───┬───┘»\n",
       "q_1: ┤ H ├┤ Ry(θ[1]) ├────────────┤ X ├──┼────■────┼────■─────┤ H ├────»\n",
       "     ├───┤└──┬───┬───┘┌──────────┐└───┘┌─┴─┐┌─┴─┐  │    │     └───┘    »\n",
       "q_2: ┤ X ├───┤ H ├────┤ Ry(θ[2]) ├─────┤ X ├┤ X ├──┼────┼───────■──────»\n",
       "     ├───┤┌──┴───┴───┐└──────────┘     └───┘└───┘┌─┴─┐┌─┴─┐   ┌─┴─┐    »\n",
       "q_3: ┤ H ├┤ Ry(θ[3]) ├───────────────────────────┤ X ├┤ X ├───┤ X ├────»\n",
       "     └───┘└──────────┘                           └───┘└───┘   └───┘    »\n",
       "«                                            ┌───┐┌──────────┐            »\n",
       "«q_0: ─────────────────■────────■─────────■──┤ H ├┤ Ry(θ[8]) ├────────────»\n",
       "«     ┌──────────┐   ┌─┴─┐      │         │  └───┘└──┬───┬───┘┌──────────┐»\n",
       "«q_1: ┤ Ry(θ[5]) ├───┤ X ├──────┼────■────┼────■─────┤ H ├────┤ Ry(θ[9]) ├»\n",
       "«     └──┬───┬───┘┌──┴───┴───┐┌─┴─┐┌─┴─┐  │    │     └───┘    └──┬───┬───┘»\n",
       "«q_2: ───┤ H ├────┤ Ry(θ[6]) ├┤ X ├┤ X ├──┼────┼───────■─────────┤ H ├────»\n",
       "«        ├───┤    ├──────────┤└───┘└───┘┌─┴─┐┌─┴─┐   ┌─┴─┐       ├───┤    »\n",
       "«q_3: ───┤ H ├────┤ Ry(θ[7]) ├──────────┤ X ├┤ X ├───┤ X ├───────┤ H ├────»\n",
       "«        └───┘    └──────────┘          └───┘└───┘   └───┘       └───┘    »\n",
       "«                  \n",
       "«q_0: ─────────────\n",
       "«                  \n",
       "«q_1: ─────────────\n",
       "«     ┌───────────┐\n",
       "«q_2: ┤ Ry(θ[10]) ├\n",
       "«     ├───────────┤\n",
       "«q_3: ┤ Ry(θ[11]) ├\n",
       "«     └───────────┘"
      ]
     },
     "execution_count": 349,
     "metadata": {},
     "output_type": "execute_result"
    }
   ],
   "source": [
    "from qiskit.circuit.library import EfficientSU2\n",
    "\n",
    "ansatz = EfficientSU2(num_qubits = 4, \n",
    "                      su2_gates = ['h', 'ry'],\n",
    "                      entanglement = 'full',\n",
    "                      reps = 2,\n",
    "                      initial_state = init_state)\n",
    "ansatz.decompose().draw()\n"
   ]
  },
  {
   "cell_type": "code",
   "execution_count": 350,
   "id": "b9f15fd1",
   "metadata": {},
   "outputs": [],
   "source": [
    "from qiskit.providers.aer import StatevectorSimulator\n",
    "from qiskit.algorithms.optimizers import COBYLA\n",
    "backend = StatevectorSimulator()\n",
    "optimizer = COBYLA()"
   ]
  },
  {
   "cell_type": "code",
   "execution_count": 351,
   "id": "98d9d390",
   "metadata": {},
   "outputs": [],
   "source": [
    "import numpy as np\n",
    "np.random.seed(5)\n",
    "num_params = ansatz.num_parameters\n",
    "initial_point = np.random.random(num_params)"
   ]
  },
  {
   "cell_type": "code",
   "execution_count": 352,
   "id": "41700739",
   "metadata": {},
   "outputs": [
    {
     "name": "stdout",
     "output_type": "stream",
     "text": [
      "(-0.7656650244391225+0j)\n"
     ]
    }
   ],
   "source": [
    "from qiskit.algorithms import VQE\n",
    "from qiskit_nature.algorithms import GroundStateEigensolver\n",
    "vqe = VQE(ansatz = ansatz,\n",
    "         optimizer = optimizer,\n",
    "         initial_point = initial_point,\n",
    "         quantum_instance = backend)\n",
    "\n",
    "vqe_ground_state_solver = GroundStateEigensolver(qubit_converter, vqe)\n",
    "vqe_results = vqe_ground_state_solver.solve(es_problem)\n",
    "print(vqe_results.eigenenergies[0])"
   ]
  },
  {
   "cell_type": "code",
   "execution_count": 353,
   "id": "48373f5a",
   "metadata": {},
   "outputs": [
    {
     "name": "stdout",
     "output_type": "stream",
     "text": [
      "=== GROUND STATE ENERGY ===\n",
      " \n",
      "* Electronic ground state energy (Hartree): -4043.631987584531\n",
      "  - computed part:      -0.765665024439\n",
      "  - ActiveSpaceTransformer extracted energy part: -4042.866322560092\n",
      " \n",
      "=== EXCITED STATE ENERGIES ===\n",
      " \n",
      "  1: \n",
      "* Electronic excited state energy (Hartree): -4043.426917298302\n",
      "* Electronic excited state energy (Hartree): -4043.426917298302\n",
      "> Total excited state energy (Hartree): -4043.426917298302\n",
      "  2: \n",
      "* Electronic excited state energy (Hartree): -4043.395388322966\n",
      "* Electronic excited state energy (Hartree): -4043.395388322966\n",
      "> Total excited state energy (Hartree): -4043.395388322966\n",
      "  3: \n",
      "* Electronic excited state energy (Hartree): -4043.085721824136\n",
      "* Electronic excited state energy (Hartree): -4043.085721824136\n",
      "> Total excited state energy (Hartree): -4043.085721824136\n",
      " \n",
      "=== MEASURED OBSERVABLES ===\n",
      " \n",
      "  0:  # Particles: 2.000 S: 0.000 S^2: 0.000 M: -0.000\n"
     ]
    }
   ],
   "source": [
    "from qiskit_nature.algorithms import QEOM\n",
    "qeom_excited_state_solver = QEOM(vqe_ground_state_solver, 'sd')\n",
    "qeom_results = qeom_excited_state_solver.solve(es_problem)\n",
    "print(qeom_results)"
   ]
  },
  {
   "cell_type": "code",
   "execution_count": 354,
   "id": "8bb42a67",
   "metadata": {},
   "outputs": [
    {
     "data": {
      "text/plain": [
       "0.20507028622962853"
      ]
     },
     "execution_count": 354,
     "metadata": {},
     "output_type": "execute_result"
    }
   ],
   "source": [
    "bandgap = qeom_results.computed_energies[1] - qeom_results.computed_energies[0]\n",
    "bandgap"
   ]
  },
  {
   "cell_type": "code",
   "execution_count": 370,
   "id": "e795a9e4",
   "metadata": {},
   "outputs": [
    {
     "data": {
      "text/plain": [
       "ParameterVector(name=θ, length=12)"
      ]
     },
     "execution_count": 370,
     "metadata": {},
     "output_type": "execute_result"
    }
   ],
   "source": [
    "# for now we believe that qubit_op is all we need\n",
    "from qiskit.opflow import CircuitStateFn, StateFn\n",
    "from qiskit.opflow import I, X, Y, Z, H, CX, Zero, ListOp, PauliExpectation, PauliTrotterEvolution, CircuitSampler, MatrixEvolution, Suzuki\n",
    "from qiskit.circuit.parametervector import ParameterVector\n",
    "\n",
    "H_op = qubit_op\n",
    "ansatz = ansatz\n",
    "ansatz.parameters\n",
    "\n",
    "# problem solved\n",
    "# ansatz has a parameterView\n",
    "# but to pull out parameter vector we should get a parameter\n",
    "# and then call it's vector parent which will be parameterVector\n",
    "ry = ansatz.parameters[0].vector\n",
    "ry\n",
    "# print(ry[0].vector)\n",
    "# print(ry)\n",
    "# print()\n",
    "# print(H_and_ansatz.parameters)"
   ]
  },
  {
   "cell_type": "code",
   "execution_count": 371,
   "id": "99ddbbef",
   "metadata": {},
   "outputs": [
    {
     "name": "stdout",
     "output_type": "stream",
     "text": [
      "(-0.4998550517628653+0j)\n"
     ]
    }
   ],
   "source": [
    "H_meas = StateFn(H_op, is_measurement=True)\n",
    "circuit_ansatz = CircuitStateFn(ansatz)\n",
    "H_and_ansatz = H_meas @ circuit_ansatz\n",
    "\n",
    "sampler = CircuitSampler(backend = backend)\n",
    "params = np.random.random(num_params)\n",
    "binded = H_and_ansatz.bind_parameters({ry:params})\n",
    "sampled = sampler.convert(binded)\n",
    "print(sampled.eval())"
   ]
  },
  {
   "cell_type": "code",
   "execution_count": 372,
   "id": "459d545c",
   "metadata": {},
   "outputs": [
    {
     "name": "stdout",
     "output_type": "stream",
     "text": [
      "The vqe ground state energy using is: (-0.7656650244391225+0j)\n",
      "The estimated ground state energy from VQE algorithm is: -0.7647310899128605\n"
     ]
    }
   ],
   "source": [
    "from scipy.optimize import minimize\n",
    "from qiskit import *\n",
    "def cost(params):\n",
    "    shots = 8192\n",
    "    backend = BasicAer.get_backend('qasm_simulator')\n",
    "    sampler = CircuitSampler(backend = backend)\n",
    "    binded = H_and_ansatz.bind_parameters({ry:params})\n",
    "    sampled = sampler.convert(binded)\n",
    "    return sampled.eval().real\n",
    "params = np.random.random(num_params)\n",
    "vqe_result = minimize(cost, params, method=\"Powell\", tol=1e-3)\n",
    "\n",
    "print('The vqe ground state energy using is: {}'.format(vqe_results.eigenenergies[0]))\n",
    "print('The estimated ground state energy from VQE algorithm is: {}'.format(vqe_result.fun))\n"
   ]
  },
  {
   "cell_type": "code",
   "execution_count": 373,
   "id": "5e598e68",
   "metadata": {},
   "outputs": [
    {
     "data": {
      "text/plain": [
       "array([-0.88978434, -0.01470771, -0.22845516,  0.29995122,  0.88033167,\n",
       "       -0.02974509,  0.10884307,  0.7103629 ,  1.20298301,  1.28331949,\n",
       "        1.48613465,  0.93651326])"
      ]
     },
     "execution_count": 373,
     "metadata": {},
     "output_type": "execute_result"
    }
   ],
   "source": [
    "optimal_params = vqe_result.x\n",
    "optimal_params"
   ]
  },
  {
   "cell_type": "code",
   "execution_count": 374,
   "id": "a1190fd0",
   "metadata": {},
   "outputs": [],
   "source": [
    "opt_circ = ansatz.bind_parameters({ry:optimal_params})\n",
    "zero_proj = (1 / 2**4 * (I + Z) ^ (I + Z) ^ (I + Z) ^ (I + Z))\n",
    "\n",
    "zero_proj_meas = StateFn(zero_proj, is_measurement = True)\n",
    "ansatz_and_opt_circ = ansatz.compose(opt_circ.inverse())\n",
    "#Penalty_ansatz = CircuitStateFn(ansatz_and_opt_circ)\n",
    "Penalty_ansatz = CircuitStateFn(ansatz + opt_circ.inverse())\n",
    "Penalty_and_ansatz = zero_proj_meas @ Penalty_ansatz\n",
    "\n",
    "H_tot = H_and_ansatz + Penalty_and_ansatz\n",
    "\n",
    "def cost(params):\n",
    "    shots = 8192\n",
    "    backend = BasicAer.get_backend('qasm_simulator')\n",
    "    sampler = CircuitSampler(backend = backend)\n",
    "    binded = H_tot.bind_parameters({ry:params})\n",
    "    sampled = sampler.convert(binded)\n",
    "    return sampled.eval().real\n",
    "params = np.random.random(num_params)\n",
    "vqd_result = minimize(cost, params, method=\"Powell\", tol=1e-3)\n",
    "\n"
   ]
  },
  {
   "cell_type": "code",
   "execution_count": 375,
   "id": "c2bcbe7b",
   "metadata": {},
   "outputs": [
    {
     "name": "stdout",
     "output_type": "stream",
     "text": [
      "The qeom excited state energy using is: (-0.560594738209494+0j)\n",
      "The estimated excited state energy from vqd algorithm is: -0.6916669936530623\n"
     ]
    }
   ],
   "source": [
    "print('The qeom excited state energy using is: {}'.format(qeom_results.eigenenergies[1]))\n",
    "print('The estimated excited state energy from vqd algorithm is: {}'.format(vqd_result.fun))\n"
   ]
  },
  {
   "cell_type": "code",
   "execution_count": 369,
   "id": "b28ecc01",
   "metadata": {},
   "outputs": [
    {
     "name": "stdout",
     "output_type": "stream",
     "text": [
      "SummedOp([\n",
      "  ComposedOp([\n",
      "    OperatorMeasurement(-0.45781773131305903 * IIII\n",
      "    - 0.009666607989543467 * ZIII\n",
      "    + 0.12689900731767084 * IZII\n",
      "    + 0.030293077447785 * ZZII\n",
      "    - 0.009666607989543479 * IIZI\n",
      "    + 0.03732964036584735 * ZIZI\n",
      "    + 0.034223590264106186 * IZZI\n",
      "    + 0.12689900731767084 * IIIZ\n",
      "    + 0.034223590264106186 * ZIIZ\n",
      "    + 0.05698995686717464 * IZIZ\n",
      "    + 0.030293077447785 * IIZZ\n",
      "    + 0.00014809461815615455 * XXII\n",
      "    + 0.00014809461815615455 * YYII\n",
      "    - 7.872869677230731e-05 * XXZI\n",
      "    - 7.872869677230731e-05 * YYZI\n",
      "    + 6.938452207544002e-05 * XXIZ\n",
      "    + 6.938452207544002e-05 * YYIZ\n",
      "    + 0.00014809461815615455 * IIXX\n",
      "    - 7.872869677230731e-05 * ZIXX\n",
      "    + 6.938452207544002e-05 * IZXX\n",
      "    + 0.00014809461815615455 * IIYY\n",
      "    - 7.872869677230731e-05 * ZIYY\n",
      "    + 6.938452207544002e-05 * IZYY\n",
      "    + 0.003930512816321183 * XXXX\n",
      "    + 0.003930512816321183 * YYXX\n",
      "    + 0.003930512816321183 * XXYY\n",
      "    + 0.003930512816321183 * YYYY),\n",
      "    CircuitStateFn(\n",
      "         »\n",
      "    q_0: »\n",
      "         »\n",
      "    q_1: »\n",
      "         »\n",
      "    q_2: »\n",
      "         »\n",
      "    q_3: »\n",
      "         »\n",
      "    «     ┌──────────────────────────────────────────────────────────────────────────────┐\n",
      "    «q_0: ┤0                                                                             ├\n",
      "    «     │                                                                              │\n",
      "    «q_1: ┤1                                                                             ├\n",
      "    «     │  EfficientSU2(θ[0],θ[1],θ[2],θ[3],θ[4],θ[5],θ[6],θ[7],θ[8],θ[9],θ[10],θ[11]) │\n",
      "    «q_2: ┤2                                                                             ├\n",
      "    «     │                                                                              │\n",
      "    «q_3: ┤3                                                                             ├\n",
      "    «     └──────────────────────────────────────────────────────────────────────────────┘\n",
      "    )\n",
      "  ]),\n",
      "  ComposedOp([\n",
      "    OperatorMeasurement(0.0625 * IIII\n",
      "    + 0.0625 * IIIZ\n",
      "    + 0.0625 * IIZI\n",
      "    + 0.0625 * IIZZ\n",
      "    + 0.0625 * IZII\n",
      "    + 0.0625 * IZIZ\n",
      "    + 0.0625 * IZZI\n",
      "    + 0.0625 * IZZZ\n",
      "    + 0.0625 * ZIII\n",
      "    + 0.0625 * ZIIZ\n",
      "    + 0.0625 * ZIZI\n",
      "    + 0.0625 * ZIZZ\n",
      "    + 0.0625 * ZZII\n",
      "    + 0.0625 * ZZIZ\n",
      "    + 0.0625 * ZZZI\n",
      "    + 0.0625 * ZZZZ),\n",
      "    CircuitStateFn(\n",
      "         »\n",
      "    q_0: »\n",
      "         »\n",
      "    q_1: »\n",
      "         »\n",
      "    q_2: »\n",
      "         »\n",
      "    q_3: »\n",
      "         »\n",
      "    «     ┌──────────────────────────────────────────────────────────────────────────────┐»\n",
      "    «q_0: ┤0                                                                             ├»\n",
      "    «     │                                                                              │»\n",
      "    «q_1: ┤1                                                                             ├»\n",
      "    «     │  EfficientSU2(θ[0],θ[1],θ[2],θ[3],θ[4],θ[5],θ[6],θ[7],θ[8],θ[9],θ[10],θ[11]) │»\n",
      "    «q_2: ┤2                                                                             ├»\n",
      "    «     │                                                                              │»\n",
      "    «q_3: ┤3                                                                             ├»\n",
      "    «     └──────────────────────────────────────────────────────────────────────────────┘»\n",
      "    «     ┌────────────────────────────────────────────────────────────────────────────────────────────────────────────────────────────────────────────────────────────────────────────────────────────────────────────────────────────────────────────┐\n",
      "    «q_0: ┤0                                                                                                                                                                                                                                           ├\n",
      "    «     │                                                                                                                                                                                                                                            │\n",
      "    «q_1: ┤1                                                                                                                                                                                                                                           ├\n",
      "    «     │  EfficientSU2_dg(-1.29054733514005,-1.47319925942429,-1.33003900188269,1.34918825380366,0.601025669465414,-0.194754567768830,0.0520457340507738,0.213975180488707,0.606295871557844,0.422651611747806,0.101230404382873,0.332680630817526) │\n",
      "    «q_2: ┤2                                                                                                                                                                                                                                           ├\n",
      "    «     │                                                                                                                                                                                                                                            │\n",
      "    «q_3: ┤3                                                                                                                                                                                                                                           ├\n",
      "    «     └────────────────────────────────────────────────────────────────────────────────────────────────────────────────────────────────────────────────────────────────────────────────────────────────────────────────────────────────────────────┘\n",
      "    )\n",
      "  ])\n",
      "])\n"
     ]
    }
   ],
   "source": [
    "print(H_tot)"
   ]
  },
  {
   "cell_type": "code",
   "execution_count": 208,
   "id": "75607e6e",
   "metadata": {},
   "outputs": [
    {
     "data": {
      "text/plain": [
       "ParameterVector(name=θ, length=12)"
      ]
     },
     "execution_count": 208,
     "metadata": {},
     "output_type": "execute_result"
    }
   ],
   "source": [
    "for x in H_tot.parameters:\n",
    "    break\n",
    "x.vector"
   ]
  },
  {
   "cell_type": "code",
   "execution_count": null,
   "id": "cac9139c",
   "metadata": {},
   "outputs": [],
   "source": [
    "# |a * <pk | pi>|^2 = a^2 * <pk|pi><pi|pk> = \n",
    "# a^2 * <pk| R|0><0|R* |pk> = a^2 * <pk|P|pk>\n",
    "# <pk | R |0><0| R* |pk>\n"
   ]
  }
 ],
 "metadata": {
  "kernelspec": {
   "display_name": "Python 3 (ipykernel)",
   "language": "python",
   "name": "python3"
  },
  "language_info": {
   "codemirror_mode": {
    "name": "ipython",
    "version": 3
   },
   "file_extension": ".py",
   "mimetype": "text/x-python",
   "name": "python",
   "nbconvert_exporter": "python",
   "pygments_lexer": "ipython3",
   "version": "3.9.7"
  }
 },
 "nbformat": 4,
 "nbformat_minor": 5
}
